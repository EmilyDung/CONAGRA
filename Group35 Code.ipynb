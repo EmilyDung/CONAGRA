{
 "cells": [
  {
   "cell_type": "markdown",
   "metadata": {},
   "source": [
    "# Group 35\n",
    "# Code Flow\n",
    "\n",
    "1. Importing Libraries and Data\n",
    "2. Data Preprocessing\n",
    "3. Answering Question 1\n",
    "4. Answering Question 2/3\n"
   ]
  },
  {
   "cell_type": "markdown",
   "metadata": {},
   "source": [
    "#### 1A) Importing Libraries"
   ]
  },
  {
   "cell_type": "code",
   "execution_count": 2,
   "metadata": {},
   "outputs": [],
   "source": [
    "import numpy as np\n",
    "import pandas as pd  # for data analytics\n",
    "import seaborn as sns\n",
    "import matplotlib.pyplot as plt\n",
    "from sklearn.model_selection import train_test_split\n",
    "from sklearn.linear_model import LogisticRegression\n",
    "import csv\n",
    "import warnings\n",
    "warnings.filterwarnings('ignore')"
   ]
  },
  {
   "cell_type": "code",
   "execution_count": 3,
   "metadata": {},
   "outputs": [
    {
     "name": "stdout",
     "output_type": "stream",
     "text": [
      "Requirement already satisfied: openpyxl in c:\\users\\tpiku\\anaconda3\\lib\\site-packages (3.0.10)\n",
      "Requirement already satisfied: et_xmlfile in c:\\users\\tpiku\\anaconda3\\lib\\site-packages (from openpyxl) (1.1.0)\n",
      "Note: you may need to restart the kernel to use updated packages.\n"
     ]
    }
   ],
   "source": [
    "pip install openpyxl"
   ]
  },
  {
   "cell_type": "code",
   "execution_count": 4,
   "metadata": {},
   "outputs": [],
   "source": [
    "import statsmodels.api as sm\n",
    "from sklearn.metrics import r2_score\n",
    "import statsmodels.formula.api as smf\n",
    "from statsmodels.discrete.discrete_model import MNLogit \n",
    "from scipy import stats\n",
    "from sklearn.preprocessing import StandardScaler"
   ]
  },
  {
   "cell_type": "markdown",
   "metadata": {},
   "source": [
    "#### 1B) Importing data"
   ]
  },
  {
   "cell_type": "code",
   "execution_count": 5,
   "metadata": {
    "collapsed": true
   },
   "outputs": [
    {
     "ename": "FileNotFoundError",
     "evalue": "[Errno 2] No such file or directory: 'IRI_POS_Tablespreads_2022.xlsx'",
     "output_type": "error",
     "traceback": [
      "\u001b[1;31m---------------------------------------------------------------------------\u001b[0m",
      "\u001b[1;31mFileNotFoundError\u001b[0m                         Traceback (most recent call last)",
      "Cell \u001b[1;32mIn[5], line 2\u001b[0m\n\u001b[0;32m      1\u001b[0m \u001b[38;5;66;03m# data loading\u001b[39;00m\n\u001b[1;32m----> 2\u001b[0m tablespreads_2022_data \u001b[38;5;241m=\u001b[39m \u001b[43mpd\u001b[49m\u001b[38;5;241;43m.\u001b[39;49m\u001b[43mread_excel\u001b[49m\u001b[43m(\u001b[49m\u001b[38;5;124;43m'\u001b[39;49m\u001b[38;5;124;43mIRI_POS_Tablespreads_2022.xlsx\u001b[39;49m\u001b[38;5;124;43m'\u001b[39;49m\u001b[43m)\u001b[49m\n\u001b[0;32m      3\u001b[0m tablespreads_2021_data \u001b[38;5;241m=\u001b[39m pd\u001b[38;5;241m.\u001b[39mread_excel(\u001b[38;5;124m'\u001b[39m\u001b[38;5;124mIRI_POS_Tablespreads_2021.xlsx\u001b[39m\u001b[38;5;124m'\u001b[39m)\n\u001b[0;32m      4\u001b[0m tablespreads_2020_data \u001b[38;5;241m=\u001b[39m pd\u001b[38;5;241m.\u001b[39mread_excel(\u001b[38;5;124m'\u001b[39m\u001b[38;5;124mIRI_POS_Tablespreads_2020.xlsx\u001b[39m\u001b[38;5;124m'\u001b[39m)\n",
      "File \u001b[1;32m~\\anaconda3\\lib\\site-packages\\pandas\\util\\_decorators.py:211\u001b[0m, in \u001b[0;36mdeprecate_kwarg.<locals>._deprecate_kwarg.<locals>.wrapper\u001b[1;34m(*args, **kwargs)\u001b[0m\n\u001b[0;32m    209\u001b[0m     \u001b[38;5;28;01melse\u001b[39;00m:\n\u001b[0;32m    210\u001b[0m         kwargs[new_arg_name] \u001b[38;5;241m=\u001b[39m new_arg_value\n\u001b[1;32m--> 211\u001b[0m \u001b[38;5;28;01mreturn\u001b[39;00m func(\u001b[38;5;241m*\u001b[39margs, \u001b[38;5;241m*\u001b[39m\u001b[38;5;241m*\u001b[39mkwargs)\n",
      "File \u001b[1;32m~\\anaconda3\\lib\\site-packages\\pandas\\util\\_decorators.py:331\u001b[0m, in \u001b[0;36mdeprecate_nonkeyword_arguments.<locals>.decorate.<locals>.wrapper\u001b[1;34m(*args, **kwargs)\u001b[0m\n\u001b[0;32m    325\u001b[0m \u001b[38;5;28;01mif\u001b[39;00m \u001b[38;5;28mlen\u001b[39m(args) \u001b[38;5;241m>\u001b[39m num_allow_args:\n\u001b[0;32m    326\u001b[0m     warnings\u001b[38;5;241m.\u001b[39mwarn(\n\u001b[0;32m    327\u001b[0m         msg\u001b[38;5;241m.\u001b[39mformat(arguments\u001b[38;5;241m=\u001b[39m_format_argument_list(allow_args)),\n\u001b[0;32m    328\u001b[0m         \u001b[38;5;167;01mFutureWarning\u001b[39;00m,\n\u001b[0;32m    329\u001b[0m         stacklevel\u001b[38;5;241m=\u001b[39mfind_stack_level(),\n\u001b[0;32m    330\u001b[0m     )\n\u001b[1;32m--> 331\u001b[0m \u001b[38;5;28;01mreturn\u001b[39;00m func(\u001b[38;5;241m*\u001b[39margs, \u001b[38;5;241m*\u001b[39m\u001b[38;5;241m*\u001b[39mkwargs)\n",
      "File \u001b[1;32m~\\anaconda3\\lib\\site-packages\\pandas\\io\\excel\\_base.py:482\u001b[0m, in \u001b[0;36mread_excel\u001b[1;34m(io, sheet_name, header, names, index_col, usecols, squeeze, dtype, engine, converters, true_values, false_values, skiprows, nrows, na_values, keep_default_na, na_filter, verbose, parse_dates, date_parser, thousands, decimal, comment, skipfooter, convert_float, mangle_dupe_cols, storage_options)\u001b[0m\n\u001b[0;32m    480\u001b[0m \u001b[38;5;28;01mif\u001b[39;00m \u001b[38;5;129;01mnot\u001b[39;00m \u001b[38;5;28misinstance\u001b[39m(io, ExcelFile):\n\u001b[0;32m    481\u001b[0m     should_close \u001b[38;5;241m=\u001b[39m \u001b[38;5;28;01mTrue\u001b[39;00m\n\u001b[1;32m--> 482\u001b[0m     io \u001b[38;5;241m=\u001b[39m \u001b[43mExcelFile\u001b[49m\u001b[43m(\u001b[49m\u001b[43mio\u001b[49m\u001b[43m,\u001b[49m\u001b[43m \u001b[49m\u001b[43mstorage_options\u001b[49m\u001b[38;5;241;43m=\u001b[39;49m\u001b[43mstorage_options\u001b[49m\u001b[43m,\u001b[49m\u001b[43m \u001b[49m\u001b[43mengine\u001b[49m\u001b[38;5;241;43m=\u001b[39;49m\u001b[43mengine\u001b[49m\u001b[43m)\u001b[49m\n\u001b[0;32m    483\u001b[0m \u001b[38;5;28;01melif\u001b[39;00m engine \u001b[38;5;129;01mand\u001b[39;00m engine \u001b[38;5;241m!=\u001b[39m io\u001b[38;5;241m.\u001b[39mengine:\n\u001b[0;32m    484\u001b[0m     \u001b[38;5;28;01mraise\u001b[39;00m \u001b[38;5;167;01mValueError\u001b[39;00m(\n\u001b[0;32m    485\u001b[0m         \u001b[38;5;124m\"\u001b[39m\u001b[38;5;124mEngine should not be specified when passing \u001b[39m\u001b[38;5;124m\"\u001b[39m\n\u001b[0;32m    486\u001b[0m         \u001b[38;5;124m\"\u001b[39m\u001b[38;5;124man ExcelFile - ExcelFile already has the engine set\u001b[39m\u001b[38;5;124m\"\u001b[39m\n\u001b[0;32m    487\u001b[0m     )\n",
      "File \u001b[1;32m~\\anaconda3\\lib\\site-packages\\pandas\\io\\excel\\_base.py:1652\u001b[0m, in \u001b[0;36mExcelFile.__init__\u001b[1;34m(self, path_or_buffer, engine, storage_options)\u001b[0m\n\u001b[0;32m   1650\u001b[0m     ext \u001b[38;5;241m=\u001b[39m \u001b[38;5;124m\"\u001b[39m\u001b[38;5;124mxls\u001b[39m\u001b[38;5;124m\"\u001b[39m\n\u001b[0;32m   1651\u001b[0m \u001b[38;5;28;01melse\u001b[39;00m:\n\u001b[1;32m-> 1652\u001b[0m     ext \u001b[38;5;241m=\u001b[39m \u001b[43minspect_excel_format\u001b[49m\u001b[43m(\u001b[49m\n\u001b[0;32m   1653\u001b[0m \u001b[43m        \u001b[49m\u001b[43mcontent_or_path\u001b[49m\u001b[38;5;241;43m=\u001b[39;49m\u001b[43mpath_or_buffer\u001b[49m\u001b[43m,\u001b[49m\u001b[43m \u001b[49m\u001b[43mstorage_options\u001b[49m\u001b[38;5;241;43m=\u001b[39;49m\u001b[43mstorage_options\u001b[49m\n\u001b[0;32m   1654\u001b[0m \u001b[43m    \u001b[49m\u001b[43m)\u001b[49m\n\u001b[0;32m   1655\u001b[0m     \u001b[38;5;28;01mif\u001b[39;00m ext \u001b[38;5;129;01mis\u001b[39;00m \u001b[38;5;28;01mNone\u001b[39;00m:\n\u001b[0;32m   1656\u001b[0m         \u001b[38;5;28;01mraise\u001b[39;00m \u001b[38;5;167;01mValueError\u001b[39;00m(\n\u001b[0;32m   1657\u001b[0m             \u001b[38;5;124m\"\u001b[39m\u001b[38;5;124mExcel file format cannot be determined, you must specify \u001b[39m\u001b[38;5;124m\"\u001b[39m\n\u001b[0;32m   1658\u001b[0m             \u001b[38;5;124m\"\u001b[39m\u001b[38;5;124man engine manually.\u001b[39m\u001b[38;5;124m\"\u001b[39m\n\u001b[0;32m   1659\u001b[0m         )\n",
      "File \u001b[1;32m~\\anaconda3\\lib\\site-packages\\pandas\\io\\excel\\_base.py:1525\u001b[0m, in \u001b[0;36minspect_excel_format\u001b[1;34m(content_or_path, storage_options)\u001b[0m\n\u001b[0;32m   1522\u001b[0m \u001b[38;5;28;01mif\u001b[39;00m \u001b[38;5;28misinstance\u001b[39m(content_or_path, \u001b[38;5;28mbytes\u001b[39m):\n\u001b[0;32m   1523\u001b[0m     content_or_path \u001b[38;5;241m=\u001b[39m BytesIO(content_or_path)\n\u001b[1;32m-> 1525\u001b[0m \u001b[38;5;28;01mwith\u001b[39;00m \u001b[43mget_handle\u001b[49m\u001b[43m(\u001b[49m\n\u001b[0;32m   1526\u001b[0m \u001b[43m    \u001b[49m\u001b[43mcontent_or_path\u001b[49m\u001b[43m,\u001b[49m\u001b[43m \u001b[49m\u001b[38;5;124;43m\"\u001b[39;49m\u001b[38;5;124;43mrb\u001b[39;49m\u001b[38;5;124;43m\"\u001b[39;49m\u001b[43m,\u001b[49m\u001b[43m \u001b[49m\u001b[43mstorage_options\u001b[49m\u001b[38;5;241;43m=\u001b[39;49m\u001b[43mstorage_options\u001b[49m\u001b[43m,\u001b[49m\u001b[43m \u001b[49m\u001b[43mis_text\u001b[49m\u001b[38;5;241;43m=\u001b[39;49m\u001b[38;5;28;43;01mFalse\u001b[39;49;00m\n\u001b[0;32m   1527\u001b[0m \u001b[43m\u001b[49m\u001b[43m)\u001b[49m \u001b[38;5;28;01mas\u001b[39;00m handle:\n\u001b[0;32m   1528\u001b[0m     stream \u001b[38;5;241m=\u001b[39m handle\u001b[38;5;241m.\u001b[39mhandle\n\u001b[0;32m   1529\u001b[0m     stream\u001b[38;5;241m.\u001b[39mseek(\u001b[38;5;241m0\u001b[39m)\n",
      "File \u001b[1;32m~\\anaconda3\\lib\\site-packages\\pandas\\io\\common.py:865\u001b[0m, in \u001b[0;36mget_handle\u001b[1;34m(path_or_buf, mode, encoding, compression, memory_map, is_text, errors, storage_options)\u001b[0m\n\u001b[0;32m    856\u001b[0m         handle \u001b[38;5;241m=\u001b[39m \u001b[38;5;28mopen\u001b[39m(\n\u001b[0;32m    857\u001b[0m             handle,\n\u001b[0;32m    858\u001b[0m             ioargs\u001b[38;5;241m.\u001b[39mmode,\n\u001b[1;32m   (...)\u001b[0m\n\u001b[0;32m    861\u001b[0m             newline\u001b[38;5;241m=\u001b[39m\u001b[38;5;124m\"\u001b[39m\u001b[38;5;124m\"\u001b[39m,\n\u001b[0;32m    862\u001b[0m         )\n\u001b[0;32m    863\u001b[0m     \u001b[38;5;28;01melse\u001b[39;00m:\n\u001b[0;32m    864\u001b[0m         \u001b[38;5;66;03m# Binary mode\u001b[39;00m\n\u001b[1;32m--> 865\u001b[0m         handle \u001b[38;5;241m=\u001b[39m \u001b[38;5;28;43mopen\u001b[39;49m\u001b[43m(\u001b[49m\u001b[43mhandle\u001b[49m\u001b[43m,\u001b[49m\u001b[43m \u001b[49m\u001b[43mioargs\u001b[49m\u001b[38;5;241;43m.\u001b[39;49m\u001b[43mmode\u001b[49m\u001b[43m)\u001b[49m\n\u001b[0;32m    866\u001b[0m     handles\u001b[38;5;241m.\u001b[39mappend(handle)\n\u001b[0;32m    868\u001b[0m \u001b[38;5;66;03m# Convert BytesIO or file objects passed with an encoding\u001b[39;00m\n",
      "\u001b[1;31mFileNotFoundError\u001b[0m: [Errno 2] No such file or directory: 'IRI_POS_Tablespreads_2022.xlsx'"
     ]
    }
   ],
   "source": [
    "# data loading\n",
    "tablespreads_2022_data = pd.read_excel('IRI_POS_Tablespreads_2022.xlsx')\n",
    "tablespreads_2021_data = pd.read_excel('IRI_POS_Tablespreads_2021.xlsx')\n",
    "tablespreads_2020_data = pd.read_excel('IRI_POS_Tablespreads_2020.xlsx')\n",
    "tablespreads_2019_data = pd.read_excel('IRI_POS_Tablespreads_2019.xlsx')\n",
    "tablespreads_2018_data = pd.read_excel('IRI_POS_Tablespreads_2018.xlsx')\n",
    "\n",
    "tablespreads_attribute_data = pd.read_excel('IRI_POS_Tablespreads_Product Attribute File.xlsx')"
   ]
  },
  {
   "cell_type": "markdown",
   "metadata": {},
   "source": [
    "#### 2) Data Preprocessing"
   ]
  },
  {
   "cell_type": "code",
   "execution_count": 6,
   "metadata": {},
   "outputs": [],
   "source": [
    "#Adding Year Column to each dataset\n",
    "tablespreads_2022_data['Year'] = \"2022\"\n",
    "tablespreads_2021_data['Year'] = \"2021\"\n",
    "tablespreads_2020_data['Year'] = \"2020\"\n",
    "tablespreads_2019_data['Year'] = \"2019\"\n",
    "tablespreads_2018_data['Year'] = \"2018\""
   ]
  },
  {
   "cell_type": "code",
   "execution_count": 7,
   "metadata": {
    "collapsed": true
   },
   "outputs": [
    {
     "data": {
      "text/html": [
       "<div>\n",
       "<style scoped>\n",
       "    .dataframe tbody tr th:only-of-type {\n",
       "        vertical-align: middle;\n",
       "    }\n",
       "\n",
       "    .dataframe tbody tr th {\n",
       "        vertical-align: top;\n",
       "    }\n",
       "\n",
       "    .dataframe thead th {\n",
       "        text-align: right;\n",
       "    }\n",
       "</style>\n",
       "<table border=\"1\" class=\"dataframe\">\n",
       "  <thead>\n",
       "    <tr style=\"text-align: right;\">\n",
       "      <th></th>\n",
       "      <th>Geography</th>\n",
       "      <th>Time</th>\n",
       "      <th>Product</th>\n",
       "      <th>UPC 13 digit</th>\n",
       "      <th>Dollar Sales No Merch</th>\n",
       "      <th>Dollar Sales Any Merch</th>\n",
       "      <th>Unit Sales No Merch</th>\n",
       "      <th>Unit Sales Any Merch</th>\n",
       "      <th>Volume Sales No Merch</th>\n",
       "      <th>Volume Sales Any Merch</th>\n",
       "      <th>...</th>\n",
       "      <th>Price per Volume Any Merch</th>\n",
       "      <th>ACV Weighted Distribution No Merch</th>\n",
       "      <th>ACV Weighted Distribution Any Merch</th>\n",
       "      <th>Base Unit Sales</th>\n",
       "      <th>Base Volume Sales</th>\n",
       "      <th>Base Dollar Sales</th>\n",
       "      <th>Incremental Units</th>\n",
       "      <th>Incremental Volume</th>\n",
       "      <th>Incremental Dollars</th>\n",
       "      <th>Year</th>\n",
       "    </tr>\n",
       "  </thead>\n",
       "  <tbody>\n",
       "    <tr>\n",
       "      <th>0</th>\n",
       "      <td>Total US - Multi Outlet + Conv</td>\n",
       "      <td>Week Ending 04-10-22</td>\n",
       "      <td>BLUE BONNET RFG VEGETABLE OIL SPREAD BOX SPREA...</td>\n",
       "      <td>29000008222</td>\n",
       "      <td>1.088910e+06</td>\n",
       "      <td>146880.565443</td>\n",
       "      <td>937262.522463</td>\n",
       "      <td>131813.603009</td>\n",
       "      <td>937262.522463</td>\n",
       "      <td>131813.603009</td>\n",
       "      <td>...</td>\n",
       "      <td>1.114305</td>\n",
       "      <td>43.706176</td>\n",
       "      <td>4.402609</td>\n",
       "      <td>1.009909e+06</td>\n",
       "      <td>1.009909e+06</td>\n",
       "      <td>1.180254e+06</td>\n",
       "      <td>59166.887553</td>\n",
       "      <td>59166.887620</td>\n",
       "      <td>55536.766682</td>\n",
       "      <td>2022</td>\n",
       "    </tr>\n",
       "    <tr>\n",
       "      <th>1</th>\n",
       "      <td>Total US - Multi Outlet + Conv</td>\n",
       "      <td>Week Ending 04-10-22</td>\n",
       "      <td>BLUE BONNET RFG VEGETABLE OIL SPREAD BOX SPREA...</td>\n",
       "      <td>29000008563</td>\n",
       "      <td>4.490108e+04</td>\n",
       "      <td>10248.728577</td>\n",
       "      <td>38808.407025</td>\n",
       "      <td>8936.592409</td>\n",
       "      <td>38808.407025</td>\n",
       "      <td>8936.592409</td>\n",
       "      <td>...</td>\n",
       "      <td>1.146827</td>\n",
       "      <td>5.492362</td>\n",
       "      <td>1.014832</td>\n",
       "      <td>4.370129e+04</td>\n",
       "      <td>4.370129e+04</td>\n",
       "      <td>5.118342e+04</td>\n",
       "      <td>4043.705718</td>\n",
       "      <td>4043.705725</td>\n",
       "      <td>3966.379893</td>\n",
       "      <td>2022</td>\n",
       "    </tr>\n",
       "    <tr>\n",
       "      <th>2</th>\n",
       "      <td>Total US - Multi Outlet + Conv</td>\n",
       "      <td>Week Ending 04-10-22</td>\n",
       "      <td>BLUE BONNET RFG VEGETABLE OIL SPREAD INDIVDL W...</td>\n",
       "      <td>29000008252</td>\n",
       "      <td>5.817064e+04</td>\n",
       "      <td>3101.773105</td>\n",
       "      <td>23261.694744</td>\n",
       "      <td>1555.268466</td>\n",
       "      <td>46523.389488</td>\n",
       "      <td>3110.536932</td>\n",
       "      <td>...</td>\n",
       "      <td>0.997183</td>\n",
       "      <td>2.050543</td>\n",
       "      <td>0.068772</td>\n",
       "      <td>2.419815e+04</td>\n",
       "      <td>4.839631e+04</td>\n",
       "      <td>6.027251e+04</td>\n",
       "      <td>618.808218</td>\n",
       "      <td>1237.616440</td>\n",
       "      <td>999.899905</td>\n",
       "      <td>2022</td>\n",
       "    </tr>\n",
       "    <tr>\n",
       "      <th>3</th>\n",
       "      <td>Total US - Multi Outlet + Conv</td>\n",
       "      <td>Week Ending 04-10-22</td>\n",
       "      <td>BLUE BONNET RFG VEGETABLE OIL SPREAD PLASTIC T...</td>\n",
       "      <td>27000009002</td>\n",
       "      <td>2.324966e+05</td>\n",
       "      <td>12934.069323</td>\n",
       "      <td>117940.681316</td>\n",
       "      <td>7060.648479</td>\n",
       "      <td>110569.388734</td>\n",
       "      <td>6619.357949</td>\n",
       "      <td>...</td>\n",
       "      <td>1.953976</td>\n",
       "      <td>26.319175</td>\n",
       "      <td>1.711830</td>\n",
       "      <td>1.223989e+05</td>\n",
       "      <td>1.147489e+05</td>\n",
       "      <td>2.422413e+05</td>\n",
       "      <td>2602.458243</td>\n",
       "      <td>2439.804604</td>\n",
       "      <td>3189.355727</td>\n",
       "      <td>2022</td>\n",
       "    </tr>\n",
       "    <tr>\n",
       "      <th>4</th>\n",
       "      <td>Total US - Multi Outlet + Conv</td>\n",
       "      <td>Week Ending 04-10-22</td>\n",
       "      <td>BLUE BONNET RFG VEGETABLE OIL SPREAD PLASTIC T...</td>\n",
       "      <td>27000009301</td>\n",
       "      <td>3.622984e+04</td>\n",
       "      <td>282.533668</td>\n",
       "      <td>18824.140361</td>\n",
       "      <td>152.200069</td>\n",
       "      <td>17647.631589</td>\n",
       "      <td>142.687565</td>\n",
       "      <td>...</td>\n",
       "      <td>1.980086</td>\n",
       "      <td>6.243850</td>\n",
       "      <td>0.063546</td>\n",
       "      <td>1.896075e+04</td>\n",
       "      <td>1.777571e+04</td>\n",
       "      <td>3.648962e+04</td>\n",
       "      <td>15.587367</td>\n",
       "      <td>14.613157</td>\n",
       "      <td>22.748004</td>\n",
       "      <td>2022</td>\n",
       "    </tr>\n",
       "  </tbody>\n",
       "</table>\n",
       "<p>5 rows × 25 columns</p>\n",
       "</div>"
      ],
      "text/plain": [
       "                        Geography                  Time  \\\n",
       "0  Total US - Multi Outlet + Conv  Week Ending 04-10-22   \n",
       "1  Total US - Multi Outlet + Conv  Week Ending 04-10-22   \n",
       "2  Total US - Multi Outlet + Conv  Week Ending 04-10-22   \n",
       "3  Total US - Multi Outlet + Conv  Week Ending 04-10-22   \n",
       "4  Total US - Multi Outlet + Conv  Week Ending 04-10-22   \n",
       "\n",
       "                                             Product  UPC 13 digit  \\\n",
       "0  BLUE BONNET RFG VEGETABLE OIL SPREAD BOX SPREA...   29000008222   \n",
       "1  BLUE BONNET RFG VEGETABLE OIL SPREAD BOX SPREA...   29000008563   \n",
       "2  BLUE BONNET RFG VEGETABLE OIL SPREAD INDIVDL W...   29000008252   \n",
       "3  BLUE BONNET RFG VEGETABLE OIL SPREAD PLASTIC T...   27000009002   \n",
       "4  BLUE BONNET RFG VEGETABLE OIL SPREAD PLASTIC T...   27000009301   \n",
       "\n",
       "   Dollar Sales No Merch  Dollar Sales Any Merch  Unit Sales No Merch  \\\n",
       "0           1.088910e+06           146880.565443        937262.522463   \n",
       "1           4.490108e+04            10248.728577         38808.407025   \n",
       "2           5.817064e+04             3101.773105         23261.694744   \n",
       "3           2.324966e+05            12934.069323        117940.681316   \n",
       "4           3.622984e+04              282.533668         18824.140361   \n",
       "\n",
       "   Unit Sales Any Merch  Volume Sales No Merch  Volume Sales Any Merch  ...  \\\n",
       "0         131813.603009          937262.522463           131813.603009  ...   \n",
       "1           8936.592409           38808.407025             8936.592409  ...   \n",
       "2           1555.268466           46523.389488             3110.536932  ...   \n",
       "3           7060.648479          110569.388734             6619.357949  ...   \n",
       "4            152.200069           17647.631589              142.687565  ...   \n",
       "\n",
       "   Price per Volume Any Merch  ACV Weighted Distribution No Merch  \\\n",
       "0                    1.114305                           43.706176   \n",
       "1                    1.146827                            5.492362   \n",
       "2                    0.997183                            2.050543   \n",
       "3                    1.953976                           26.319175   \n",
       "4                    1.980086                            6.243850   \n",
       "\n",
       "   ACV Weighted Distribution Any Merch  Base Unit Sales  Base Volume Sales  \\\n",
       "0                             4.402609     1.009909e+06       1.009909e+06   \n",
       "1                             1.014832     4.370129e+04       4.370129e+04   \n",
       "2                             0.068772     2.419815e+04       4.839631e+04   \n",
       "3                             1.711830     1.223989e+05       1.147489e+05   \n",
       "4                             0.063546     1.896075e+04       1.777571e+04   \n",
       "\n",
       "   Base Dollar Sales  Incremental Units  Incremental Volume  \\\n",
       "0       1.180254e+06       59166.887553        59166.887620   \n",
       "1       5.118342e+04        4043.705718         4043.705725   \n",
       "2       6.027251e+04         618.808218         1237.616440   \n",
       "3       2.422413e+05        2602.458243         2439.804604   \n",
       "4       3.648962e+04          15.587367           14.613157   \n",
       "\n",
       "   Incremental Dollars  Year  \n",
       "0         55536.766682  2022  \n",
       "1          3966.379893  2022  \n",
       "2           999.899905  2022  \n",
       "3          3189.355727  2022  \n",
       "4            22.748004  2022  \n",
       "\n",
       "[5 rows x 25 columns]"
      ]
     },
     "execution_count": 7,
     "metadata": {},
     "output_type": "execute_result"
    }
   ],
   "source": [
    "tablespreads_2022_data.head()"
   ]
  },
  {
   "cell_type": "code",
   "execution_count": 8,
   "metadata": {},
   "outputs": [],
   "source": [
    "#Joining all years datasets\n",
    "Tablespreads_consolidated_data = pd.concat([tablespreads_2022_data,\n",
    "                       tablespreads_2021_data,\n",
    "                       tablespreads_2020_data,\n",
    "                       tablespreads_2019_data,\n",
    "                       tablespreads_2018_data])"
   ]
  },
  {
   "cell_type": "code",
   "execution_count": 9,
   "metadata": {},
   "outputs": [
    {
     "data": {
      "text/plain": [
       "(1316655, 26)"
      ]
     },
     "execution_count": 9,
     "metadata": {},
     "output_type": "execute_result"
    }
   ],
   "source": [
    "Tablespreads_consolidated_data.shape"
   ]
  },
  {
   "cell_type": "code",
   "execution_count": 10,
   "metadata": {},
   "outputs": [
    {
     "data": {
      "text/plain": [
       "Index(['Product', 'UPC 13 digit', 'CAG Major Brand Value',\n",
       "       'CAG Manufacturer Value', 'Sub-Category Name', 'CAG Category Value',\n",
       "       'CAG Count Value', 'CAG Ounces Value', 'CAG Form Value', 'Form',\n",
       "       'CAG Tier Value'],\n",
       "      dtype='object')"
      ]
     },
     "execution_count": 10,
     "metadata": {},
     "output_type": "execute_result"
    }
   ],
   "source": [
    "#Dropping duplicate columns\n",
    "tablespreads_attribute_datanew = tablespreads_attribute_data.drop(columns=['Time', 'Geography'])\n",
    "\n",
    "tablespreads_attribute_datanew.columns"
   ]
  },
  {
   "cell_type": "code",
   "execution_count": 11,
   "metadata": {},
   "outputs": [],
   "source": [
    "#joining consolidated data and product attribute on UPC 13 digit\n",
    "Tablespreads_join = pd.merge(Tablespreads_consolidated_data, tablespreads_attribute_datanew, how = 'left', on = 'UPC 13 digit')"
   ]
  },
  {
   "cell_type": "code",
   "execution_count": 12,
   "metadata": {},
   "outputs": [],
   "source": [
    "# Creating Total Dollar and Sales Volume columns\n",
    "Tablespreads_join['Total Unit Sales'] = Tablespreads_join['Base Unit Sales'] + Tablespreads_join['Incremental Units']\n",
    "Tablespreads_join['Total Volume Sales'] = Tablespreads_join['Base Volume Sales'] + Tablespreads_join['Incremental Volume']\n",
    "Tablespreads_join['Total Dollar Sales'] = Tablespreads_join['Base Dollar Sales'] + Tablespreads_join['Incremental Dollars']"
   ]
  },
  {
   "cell_type": "code",
   "execution_count": 13,
   "metadata": {
    "collapsed": true
   },
   "outputs": [
    {
     "data": {
      "text/plain": [
       "Geography                               object\n",
       "Time                                    object\n",
       "Product_x                               object\n",
       "UPC 13 digit                             int64\n",
       "Dollar Sales No Merch                  float64\n",
       "Dollar Sales Any Merch                 float64\n",
       "Unit Sales No Merch                    float64\n",
       "Unit Sales Any Merch                   float64\n",
       "Volume Sales No Merch                  float64\n",
       "Volume Sales Any Merch                 float64\n",
       "Price per Unit                         float64\n",
       "Price per Unit No Merch                float64\n",
       "Price per Unit Any Merch               float64\n",
       "Price per Volume                       float64\n",
       "Price per Volume No Merch              float64\n",
       "Price per Volume Any Merch             float64\n",
       "ACV Weighted Distribution No Merch     float64\n",
       "ACV Weighted Distribution Any Merch    float64\n",
       "Base Unit Sales                        float64\n",
       "Base Volume Sales                      float64\n",
       "Base Dollar Sales                      float64\n",
       "Incremental Units                      float64\n",
       "Incremental Volume                     float64\n",
       "Incremental Dollars                    float64\n",
       "Year                                    object\n",
       "Product Description                     object\n",
       "Product_y                               object\n",
       "CAG Major Brand Value                   object\n",
       "CAG Manufacturer Value                  object\n",
       "Sub-Category Name                       object\n",
       "CAG Category Value                      object\n",
       "CAG Count Value                         object\n",
       "CAG Ounces Value                        object\n",
       "CAG Form Value                          object\n",
       "Form                                    object\n",
       "CAG Tier Value                          object\n",
       "Total Unit Sales                       float64\n",
       "Total Volume Sales                     float64\n",
       "Total Dollar Sales                     float64\n",
       "dtype: object"
      ]
     },
     "execution_count": 13,
     "metadata": {},
     "output_type": "execute_result"
    }
   ],
   "source": [
    "Tablespreads_join.dtypes"
   ]
  },
  {
   "cell_type": "code",
   "execution_count": 14,
   "metadata": {},
   "outputs": [
    {
     "data": {
      "text/plain": [
       "(1316655, 39)"
      ]
     },
     "execution_count": 14,
     "metadata": {},
     "output_type": "execute_result"
    }
   ],
   "source": [
    "Tablespreads_join.shape"
   ]
  },
  {
   "cell_type": "code",
   "execution_count": 15,
   "metadata": {},
   "outputs": [],
   "source": [
    "# Filtering total US data\n",
    "filtered_Tablespreads_join = Tablespreads_join.loc[Tablespreads_join['Geography']!='Total US - Multi Outlet + Conv']"
   ]
  },
  {
   "cell_type": "code",
   "execution_count": 16,
   "metadata": {
    "collapsed": true
   },
   "outputs": [
    {
     "data": {
      "text/html": [
       "<div>\n",
       "<style scoped>\n",
       "    .dataframe tbody tr th:only-of-type {\n",
       "        vertical-align: middle;\n",
       "    }\n",
       "\n",
       "    .dataframe tbody tr th {\n",
       "        vertical-align: top;\n",
       "    }\n",
       "\n",
       "    .dataframe thead th {\n",
       "        text-align: right;\n",
       "    }\n",
       "</style>\n",
       "<table border=\"1\" class=\"dataframe\">\n",
       "  <thead>\n",
       "    <tr style=\"text-align: right;\">\n",
       "      <th></th>\n",
       "      <th>Geography</th>\n",
       "      <th>CAG Manufacturer Value</th>\n",
       "      <th>CAG Tier Value</th>\n",
       "      <th>CAG Form Value</th>\n",
       "      <th>Year</th>\n",
       "      <th>Total Dollar Sales</th>\n",
       "      <th>Total Volume Sales</th>\n",
       "      <th>Total Unit Sales</th>\n",
       "    </tr>\n",
       "  </thead>\n",
       "  <tbody>\n",
       "    <tr>\n",
       "      <th>0</th>\n",
       "      <td>California - IRI Standard - Multi Outlet + Conv</td>\n",
       "      <td>ABBEY SPECIALTY FOODS LLC</td>\n",
       "      <td>SUPER PREMIUM</td>\n",
       "      <td>ALL OTHER FORM</td>\n",
       "      <td>2021</td>\n",
       "      <td>457.885459</td>\n",
       "      <td>39.546354</td>\n",
       "      <td>79.092709</td>\n",
       "    </tr>\n",
       "    <tr>\n",
       "      <th>1</th>\n",
       "      <td>California - IRI Standard - Multi Outlet + Conv</td>\n",
       "      <td>ABBEY SPECIALTY FOODS LLC</td>\n",
       "      <td>SUPER PREMIUM</td>\n",
       "      <td>ALL OTHER FORM</td>\n",
       "      <td>2022</td>\n",
       "      <td>521.603508</td>\n",
       "      <td>46.062160</td>\n",
       "      <td>92.124319</td>\n",
       "    </tr>\n",
       "    <tr>\n",
       "      <th>2</th>\n",
       "      <td>California - IRI Standard - Multi Outlet + Conv</td>\n",
       "      <td>ABBEY SPECIALTY FOODS LLC</td>\n",
       "      <td>SUPER PREMIUM</td>\n",
       "      <td>STICKS</td>\n",
       "      <td>2021</td>\n",
       "      <td>1358.687236</td>\n",
       "      <td>118.686088</td>\n",
       "      <td>237.372175</td>\n",
       "    </tr>\n",
       "    <tr>\n",
       "      <th>3</th>\n",
       "      <td>California - IRI Standard - Multi Outlet + Conv</td>\n",
       "      <td>ABBEY SPECIALTY FOODS LLC</td>\n",
       "      <td>SUPER PREMIUM</td>\n",
       "      <td>STICKS</td>\n",
       "      <td>2022</td>\n",
       "      <td>644.742897</td>\n",
       "      <td>61.505090</td>\n",
       "      <td>123.010180</td>\n",
       "    </tr>\n",
       "    <tr>\n",
       "      <th>4</th>\n",
       "      <td>California - IRI Standard - Multi Outlet + Conv</td>\n",
       "      <td>AL HALOUB MFG CORP</td>\n",
       "      <td>SUPER PREMIUM</td>\n",
       "      <td>TUBS</td>\n",
       "      <td>2018</td>\n",
       "      <td>0.000000</td>\n",
       "      <td>0.000000</td>\n",
       "      <td>0.000000</td>\n",
       "    </tr>\n",
       "    <tr>\n",
       "      <th>...</th>\n",
       "      <td>...</td>\n",
       "      <td>...</td>\n",
       "      <td>...</td>\n",
       "      <td>...</td>\n",
       "      <td>...</td>\n",
       "      <td>...</td>\n",
       "      <td>...</td>\n",
       "      <td>...</td>\n",
       "    </tr>\n",
       "    <tr>\n",
       "      <th>6809</th>\n",
       "      <td>West - IRI Standard - Multi Outlet + Conv</td>\n",
       "      <td>WORLD CHEESE CO INC</td>\n",
       "      <td>MAINSTREAM</td>\n",
       "      <td>STICKS</td>\n",
       "      <td>2018</td>\n",
       "      <td>0.000000</td>\n",
       "      <td>0.000000</td>\n",
       "      <td>0.000000</td>\n",
       "    </tr>\n",
       "    <tr>\n",
       "      <th>6810</th>\n",
       "      <td>West - IRI Standard - Multi Outlet + Conv</td>\n",
       "      <td>WORLD CHEESE CO INC</td>\n",
       "      <td>MAINSTREAM</td>\n",
       "      <td>STICKS</td>\n",
       "      <td>2019</td>\n",
       "      <td>0.000000</td>\n",
       "      <td>0.000000</td>\n",
       "      <td>0.000000</td>\n",
       "    </tr>\n",
       "    <tr>\n",
       "      <th>6811</th>\n",
       "      <td>West - IRI Standard - Multi Outlet + Conv</td>\n",
       "      <td>WORLD CHEESE CO INC</td>\n",
       "      <td>MAINSTREAM</td>\n",
       "      <td>STICKS</td>\n",
       "      <td>2022</td>\n",
       "      <td>0.000000</td>\n",
       "      <td>0.000000</td>\n",
       "      <td>0.000000</td>\n",
       "    </tr>\n",
       "    <tr>\n",
       "      <th>6812</th>\n",
       "      <td>West - IRI Standard - Multi Outlet + Conv</td>\n",
       "      <td>WORLD CHEESE CO INC</td>\n",
       "      <td>SUPER PREMIUM</td>\n",
       "      <td>TUBS</td>\n",
       "      <td>2021</td>\n",
       "      <td>0.000000</td>\n",
       "      <td>0.000000</td>\n",
       "      <td>0.000000</td>\n",
       "    </tr>\n",
       "    <tr>\n",
       "      <th>6813</th>\n",
       "      <td>West - IRI Standard - Multi Outlet + Conv</td>\n",
       "      <td>WORLD CHEESE CO INC</td>\n",
       "      <td>SUPER PREMIUM</td>\n",
       "      <td>TUBS</td>\n",
       "      <td>2022</td>\n",
       "      <td>53.866624</td>\n",
       "      <td>15.889860</td>\n",
       "      <td>15.889860</td>\n",
       "    </tr>\n",
       "  </tbody>\n",
       "</table>\n",
       "<p>6814 rows × 8 columns</p>\n",
       "</div>"
      ],
      "text/plain": [
       "                                            Geography  \\\n",
       "0     California - IRI Standard - Multi Outlet + Conv   \n",
       "1     California - IRI Standard - Multi Outlet + Conv   \n",
       "2     California - IRI Standard - Multi Outlet + Conv   \n",
       "3     California - IRI Standard - Multi Outlet + Conv   \n",
       "4     California - IRI Standard - Multi Outlet + Conv   \n",
       "...                                               ...   \n",
       "6809        West - IRI Standard - Multi Outlet + Conv   \n",
       "6810        West - IRI Standard - Multi Outlet + Conv   \n",
       "6811        West - IRI Standard - Multi Outlet + Conv   \n",
       "6812        West - IRI Standard - Multi Outlet + Conv   \n",
       "6813        West - IRI Standard - Multi Outlet + Conv   \n",
       "\n",
       "         CAG Manufacturer Value CAG Tier Value  CAG Form Value  Year  \\\n",
       "0     ABBEY SPECIALTY FOODS LLC  SUPER PREMIUM  ALL OTHER FORM  2021   \n",
       "1     ABBEY SPECIALTY FOODS LLC  SUPER PREMIUM  ALL OTHER FORM  2022   \n",
       "2     ABBEY SPECIALTY FOODS LLC  SUPER PREMIUM          STICKS  2021   \n",
       "3     ABBEY SPECIALTY FOODS LLC  SUPER PREMIUM          STICKS  2022   \n",
       "4            AL HALOUB MFG CORP  SUPER PREMIUM            TUBS  2018   \n",
       "...                         ...            ...             ...   ...   \n",
       "6809        WORLD CHEESE CO INC     MAINSTREAM          STICKS  2018   \n",
       "6810        WORLD CHEESE CO INC     MAINSTREAM          STICKS  2019   \n",
       "6811        WORLD CHEESE CO INC     MAINSTREAM          STICKS  2022   \n",
       "6812        WORLD CHEESE CO INC  SUPER PREMIUM            TUBS  2021   \n",
       "6813        WORLD CHEESE CO INC  SUPER PREMIUM            TUBS  2022   \n",
       "\n",
       "      Total Dollar Sales  Total Volume Sales  Total Unit Sales  \n",
       "0             457.885459           39.546354         79.092709  \n",
       "1             521.603508           46.062160         92.124319  \n",
       "2            1358.687236          118.686088        237.372175  \n",
       "3             644.742897           61.505090        123.010180  \n",
       "4               0.000000            0.000000          0.000000  \n",
       "...                  ...                 ...               ...  \n",
       "6809            0.000000            0.000000          0.000000  \n",
       "6810            0.000000            0.000000          0.000000  \n",
       "6811            0.000000            0.000000          0.000000  \n",
       "6812            0.000000            0.000000          0.000000  \n",
       "6813           53.866624           15.889860         15.889860  \n",
       "\n",
       "[6814 rows x 8 columns]"
      ]
     },
     "execution_count": 16,
     "metadata": {},
     "output_type": "execute_result"
    }
   ],
   "source": [
    "# Grouping data and identifying total quantity\n",
    "filtered_Tablespreads_grouped = filtered_Tablespreads_join.groupby(['Geography', 'CAG Manufacturer Value', 'CAG Tier Value', 'CAG Form Value', 'Year']).\\\n",
    "agg({'Total Dollar Sales': 'sum', 'Total Volume Sales': 'sum', 'Total Unit Sales': 'sum'})\n",
    "\n",
    "filtered_Tablespreads_grouped.reset_index()"
   ]
  },
  {
   "cell_type": "markdown",
   "metadata": {},
   "source": [
    "# Question 1"
   ]
  },
  {
   "cell_type": "code",
   "execution_count": 144,
   "metadata": {},
   "outputs": [],
   "source": [
    "import numpy as np\n",
    "import pandas as pd  # for data analytics\n",
    "import seaborn as sns\n",
    "from sklearn.linear_model import LogisticRegression"
   ]
  },
  {
   "cell_type": "code",
   "execution_count": 330,
   "metadata": {},
   "outputs": [],
   "source": [
    "Dummydata=pd.read_csv(r\"C:\\Users\\tpiku\\Downloads\\Final_Table.csv\")"
   ]
  },
  {
   "cell_type": "code",
   "execution_count": 331,
   "metadata": {},
   "outputs": [],
   "source": [
    "Dummydata.reset_index()\n",
    "Dummy_upd = Dummydata.reset_index()\n",
    "\n",
    "\n",
    "\n",
    "\n",
    "Dummy_upd['Form_upd'] = np.select([Dummy_upd['CAG Form Value'] =='STICKS', \n",
    "                                   Dummy_upd['CAG Form Value'] == 'TUBS', \n",
    "                                   Dummy_upd['CAG Form Value'] == 'SPRAY/SQUEEZE', \n",
    "                                   Dummy_upd['CAG Form Value'] == 'ALL OTHER FORM'], \n",
    "                                  [ 0, 1, 2, 3 ], default=4)\n",
    "\n",
    "Dummy_upd['SubCat_upd'] = np.select([Dummy_upd['Sub-Category Name'] == 'RFG BUTTER',\n",
    "                                     Dummy_upd['Sub-Category Name'] == 'MARGARINE/SPREADS',\n",
    "                                     Dummy_upd['Sub-Category Name'] == 'RFG BUTTER BLENDS',\n",
    "                                     Dummy_upd['Sub-Category Name'] == 'RFG FLAVORED MILK'], \n",
    "                                    [ 0, 1, 2, 3 ], default=4)\n",
    "\n",
    "Dummy_upd['Geo_upd'] = np.select([Dummy_upd['Geography'] =='Northeast - IRI Standard - Multi Outlet + Conv', \n",
    "                                           Dummy_upd['Geography'] == 'Southeast - IRI Standard - Multi Outlet + Conv', \n",
    "                                           Dummy_upd['Geography'] == 'California - IRI Standard - Multi Outlet + Conv',\n",
    "                                            Dummy_upd['Geography'] == 'Great Lakes - IRI Standard - Multi Outlet + Conv',\n",
    "                                            Dummy_upd['Geography']=='Mid-South - IRI Standard - Multi Outlet + Conv',\n",
    "                                            Dummy_upd['Geography']=='Plains - IRI Standard - Multi Outlet + Conv',\n",
    "                                            Dummy_upd['Geography']=='South Central - IRI Standard - Multi Outlet + Conv',\n",
    "                                            Dummy_upd['Geography']=='West - IRI Standard - Multi Outlet + Conv'], \n",
    "                                            [ 0, 1, 2, 3, 4, 5, 6, 7], default=8)\n",
    "\n",
    "Dummy_upd['Tier_value_upd'] = np.select([Dummy_upd['CAG Tier Value'] =='MAINSTREAM', \n",
    "                                           Dummy_upd['CAG Tier Value'] == 'PREMIUM', \n",
    "                                           Dummy_upd['CAG Tier Value'] == 'SUPER PREMIUM',\n",
    "                                            Dummy_upd['CAG Tier Value'] == 'VALUE'], \n",
    "                                            [ 0, 1, 2, 3 ], default=4)"
   ]
  },
  {
   "cell_type": "code",
   "execution_count": 332,
   "metadata": {},
   "outputs": [],
   "source": [
    "Dummy_upd= Dummy_upd.rename(columns={'Total Unit Sales': 'Total_Unit_Sales'})\n",
    "Dummy_upd=Dummy_upd.rename(columns={'Base Unit Sales': 'Base_Unit_Sale'})\n",
    "Dummy_upd=Dummy_upd.rename(columns={'CAG Tier Value': 'CAG_Tier_value'})\n",
    "Dummy_upd=Dummy_upd.rename(columns={'Price per Unit': 'Price_per_unit'})\n",
    "Dummy_upd=Dummy_upd.rename(columns={'Total Dollar Sales': 'Total_Dollar_Sales'})"
   ]
  },
  {
   "cell_type": "code",
   "execution_count": 333,
   "metadata": {},
   "outputs": [],
   "source": [
    "#Subset Data for only Conagra\n",
    "Dummy_upd_Conagra = Dummy_upd.loc[Dummy_upd['CAG Manufacturer Value'] == 'CONAGRA BRANDS']"
   ]
  },
  {
   "cell_type": "code",
   "execution_count": 343,
   "metadata": {},
   "outputs": [],
   "source": [
    "#Subset Data for Top 5 Brands\n",
    "Dummy_upd_Top5 = Dummy_upd[Dummy_upd['CAG Manufacturer Value'].isin\n",
    "                           (['CONAGRA BRANDS',\"LAND O'LAKES INC\", 'UPFIELD', 'ORNUA', 'CHALLENGE DAIRY PRODUCTS INC'])]"
   ]
  },
  {
   "cell_type": "markdown",
   "metadata": {},
   "source": [
    "# Q1 First Regression: Conagra Only"
   ]
  },
  {
   "cell_type": "code",
   "execution_count": 327,
   "metadata": {
    "scrolled": false
   },
   "outputs": [
    {
     "name": "stderr",
     "output_type": "stream",
     "text": [
      "C:\\Users\\tpiku\\AppData\\Local\\Temp\\ipykernel_38816\\1828184091.py:4: SettingWithCopyWarning: \n",
      "A value is trying to be set on a copy of a slice from a DataFrame.\n",
      "Try using .loc[row_indexer,col_indexer] = value instead\n",
      "\n",
      "See the caveats in the documentation: https://pandas.pydata.org/pandas-docs/stable/user_guide/indexing.html#returning-a-view-versus-a-copy\n",
      "  Dummy_upd_Conagra.loc[:, 'Form_upd'] = pd.Categorical(Dummy_upd_Conagra['Form_upd'], categories=[0, 1, 2, 3], ordered=True)\n",
      "C:\\Users\\tpiku\\AppData\\Local\\Temp\\ipykernel_38816\\1828184091.py:5: SettingWithCopyWarning: \n",
      "A value is trying to be set on a copy of a slice from a DataFrame.\n",
      "Try using .loc[row_indexer,col_indexer] = value instead\n",
      "\n",
      "See the caveats in the documentation: https://pandas.pydata.org/pandas-docs/stable/user_guide/indexing.html#returning-a-view-versus-a-copy\n",
      "  Dummy_upd_Conagra.loc[:, 'SubCat_upd'] = pd.Categorical(Dummy_upd_Conagra['SubCat_upd'], categories=[0, 1, 2, 3], ordered=True)\n",
      "C:\\Users\\tpiku\\AppData\\Local\\Temp\\ipykernel_38816\\1828184091.py:6: SettingWithCopyWarning: \n",
      "A value is trying to be set on a copy of a slice from a DataFrame.\n",
      "Try using .loc[row_indexer,col_indexer] = value instead\n",
      "\n",
      "See the caveats in the documentation: https://pandas.pydata.org/pandas-docs/stable/user_guide/indexing.html#returning-a-view-versus-a-copy\n",
      "  Dummy_upd_Conagra.loc[:, 'Tier_value_upd'] = pd.Categorical(Dummy_upd_Conagra['Tier_value_upd'], categories=[0, 1, 2, 3], ordered=True)\n",
      "C:\\Users\\tpiku\\AppData\\Local\\Temp\\ipykernel_38816\\1828184091.py:7: SettingWithCopyWarning: \n",
      "A value is trying to be set on a copy of a slice from a DataFrame.\n",
      "Try using .loc[row_indexer,col_indexer] = value instead\n",
      "\n",
      "See the caveats in the documentation: https://pandas.pydata.org/pandas-docs/stable/user_guide/indexing.html#returning-a-view-versus-a-copy\n",
      "  Dummy_upd_Conagra.loc[:, 'Geo_upd'] = pd.Categorical(Dummy_upd_Conagra['Geo_upd'], categories=[0, 1, 2, 3, 4,5,6,7], ordered=True)\n",
      "C:\\Users\\tpiku\\AppData\\Local\\Temp\\ipykernel_38816\\1828184091.py:9: SettingWithCopyWarning: \n",
      "A value is trying to be set on a copy of a slice from a DataFrame.\n",
      "Try using .loc[row_indexer,col_indexer] = value instead\n",
      "\n",
      "See the caveats in the documentation: https://pandas.pydata.org/pandas-docs/stable/user_guide/indexing.html#returning-a-view-versus-a-copy\n",
      "  Dummy_upd_Conagra.loc[:, 'SubCat_upd'] = Dummy_upd_Conagra['SubCat_upd'].cat.rename_categories(['RFG BUTTER', 'MARGERINE/SPREADS', 'BUTTERBLEND', 'BUTTER MILK'])\n",
      "C:\\Users\\tpiku\\AppData\\Local\\Temp\\ipykernel_38816\\1828184091.py:9: DeprecationWarning: In a future version, `df.iloc[:, i] = newvals` will attempt to set the values inplace instead of always setting a new array. To retain the old behavior, use either `df[df.columns[i]] = newvals` or, if columns are non-unique, `df.isetitem(i, newvals)`\n",
      "  Dummy_upd_Conagra.loc[:, 'SubCat_upd'] = Dummy_upd_Conagra['SubCat_upd'].cat.rename_categories(['RFG BUTTER', 'MARGERINE/SPREADS', 'BUTTERBLEND', 'BUTTER MILK'])\n",
      "C:\\Users\\tpiku\\AppData\\Local\\Temp\\ipykernel_38816\\1828184091.py:10: SettingWithCopyWarning: \n",
      "A value is trying to be set on a copy of a slice from a DataFrame.\n",
      "Try using .loc[row_indexer,col_indexer] = value instead\n",
      "\n",
      "See the caveats in the documentation: https://pandas.pydata.org/pandas-docs/stable/user_guide/indexing.html#returning-a-view-versus-a-copy\n",
      "  Dummy_upd_Conagra.loc[:, 'Form_upd'] = Dummy_upd_Conagra['Form_upd'].cat.rename_categories(['STICK', 'TUB', 'SPRAY/SQUEEZE', 'ALL OTHER FORMS'])\n",
      "C:\\Users\\tpiku\\AppData\\Local\\Temp\\ipykernel_38816\\1828184091.py:10: DeprecationWarning: In a future version, `df.iloc[:, i] = newvals` will attempt to set the values inplace instead of always setting a new array. To retain the old behavior, use either `df[df.columns[i]] = newvals` or, if columns are non-unique, `df.isetitem(i, newvals)`\n",
      "  Dummy_upd_Conagra.loc[:, 'Form_upd'] = Dummy_upd_Conagra['Form_upd'].cat.rename_categories(['STICK', 'TUB', 'SPRAY/SQUEEZE', 'ALL OTHER FORMS'])\n",
      "C:\\Users\\tpiku\\AppData\\Local\\Temp\\ipykernel_38816\\1828184091.py:11: SettingWithCopyWarning: \n",
      "A value is trying to be set on a copy of a slice from a DataFrame.\n",
      "Try using .loc[row_indexer,col_indexer] = value instead\n",
      "\n",
      "See the caveats in the documentation: https://pandas.pydata.org/pandas-docs/stable/user_guide/indexing.html#returning-a-view-versus-a-copy\n",
      "  Dummy_upd_Conagra.loc[:, 'Tier_value_upd'] = Dummy_upd_Conagra['Tier_value_upd'].cat.rename_categories(['MAINSTREAM', 'PREMIUM', 'SUPER PREMIUM', 'VALUE'])\n",
      "C:\\Users\\tpiku\\AppData\\Local\\Temp\\ipykernel_38816\\1828184091.py:11: DeprecationWarning: In a future version, `df.iloc[:, i] = newvals` will attempt to set the values inplace instead of always setting a new array. To retain the old behavior, use either `df[df.columns[i]] = newvals` or, if columns are non-unique, `df.isetitem(i, newvals)`\n",
      "  Dummy_upd_Conagra.loc[:, 'Tier_value_upd'] = Dummy_upd_Conagra['Tier_value_upd'].cat.rename_categories(['MAINSTREAM', 'PREMIUM', 'SUPER PREMIUM', 'VALUE'])\n",
      "C:\\Users\\tpiku\\AppData\\Local\\Temp\\ipykernel_38816\\1828184091.py:12: SettingWithCopyWarning: \n",
      "A value is trying to be set on a copy of a slice from a DataFrame.\n",
      "Try using .loc[row_indexer,col_indexer] = value instead\n",
      "\n",
      "See the caveats in the documentation: https://pandas.pydata.org/pandas-docs/stable/user_guide/indexing.html#returning-a-view-versus-a-copy\n",
      "  Dummy_upd_Conagra.loc[:, 'Geo_upd'] = Dummy_upd_Conagra['Geo_upd'].cat.rename_categories(['Northeast', 'Southeast', 'California', 'Great lakes', 'Mid-South', 'Plains', 'South Central', 'West'])\n",
      "C:\\Users\\tpiku\\AppData\\Local\\Temp\\ipykernel_38816\\1828184091.py:12: DeprecationWarning: In a future version, `df.iloc[:, i] = newvals` will attempt to set the values inplace instead of always setting a new array. To retain the old behavior, use either `df[df.columns[i]] = newvals` or, if columns are non-unique, `df.isetitem(i, newvals)`\n",
      "  Dummy_upd_Conagra.loc[:, 'Geo_upd'] = Dummy_upd_Conagra['Geo_upd'].cat.rename_categories(['Northeast', 'Southeast', 'California', 'Great lakes', 'Mid-South', 'Plains', 'South Central', 'West'])\n"
     ]
    },
    {
     "name": "stdout",
     "output_type": "stream",
     "text": [
      "                 Generalized Linear Model Regression Results                  \n",
      "==============================================================================\n",
      "Dep. Variable:       Total_Unit_Sales   No. Observations:                70825\n",
      "Model:                            GLM   Df Residuals:                    70791\n",
      "Model Family:                Gaussian   Df Model:                           33\n",
      "Link Function:               identity   Scale:                      1.8151e+08\n",
      "Method:                          IRLS   Log-Likelihood:            -7.7391e+05\n",
      "Date:                Tue, 09 May 2023   Deviance:                   1.2850e+13\n",
      "Time:                        14:11:57   Pearson chi2:                 1.28e+13\n",
      "No. Iterations:                     3   Pseudo R-squ. (CS):             0.9969\n",
      "Covariance Type:            nonrobust                                         \n",
      "========================================================================================================================\n",
      "                                                           coef    std err          z      P>|z|      [0.025      0.975]\n",
      "------------------------------------------------------------------------------------------------------------------------\n",
      "Intercept                                             1.013e+04    373.878     27.096      0.000    9397.751    1.09e+04\n",
      "Form_upd[T.TUB]                                       4171.0905    357.736     11.660      0.000    3469.941    4872.240\n",
      "Form_upd[T.SPRAY/SQUEEZE]                            -1421.2161    642.865     -2.211      0.027   -2681.208    -161.225\n",
      "Form_upd[T.ALL OTHER FORMS]                            8.78e+04    899.165     97.648      0.000     8.6e+04    8.96e+04\n",
      "Geo_upd[T.Southeast]                                  5438.3874    462.342     11.763      0.000    4532.213    6344.562\n",
      "Geo_upd[T.California]                                -1631.2010    530.710     -3.074      0.002   -2671.374    -591.028\n",
      "Geo_upd[T.Great lakes]                                -574.0290    447.818     -1.282      0.200   -1451.736     303.678\n",
      "Geo_upd[T.Mid-South]                                  5092.3182    443.327     11.487      0.000    4223.414    5961.223\n",
      "Geo_upd[T.Plains]                                     -964.0266    448.981     -2.147      0.032   -1844.013     -84.040\n",
      "Geo_upd[T.South Central]                              1666.3978    469.249      3.551      0.000     746.687    2586.108\n",
      "Geo_upd[T.West]                                      -3021.1277    461.107     -6.552      0.000   -3924.882   -2117.374\n",
      "Geo_upd[T.Southeast]:Form_upd[T.TUB]                 -3158.8411    512.734     -6.161      0.000   -4163.781   -2153.901\n",
      "Geo_upd[T.California]:Form_upd[T.TUB]                  102.7846    588.449      0.175      0.861   -1050.555    1256.124\n",
      "Geo_upd[T.Great lakes]:Form_upd[T.TUB]                -530.9722    497.241     -1.068      0.286   -1505.546     443.602\n",
      "Geo_upd[T.Mid-South]:Form_upd[T.TUB]                 -5623.9693    492.348    -11.423      0.000   -6588.954   -4658.985\n",
      "Geo_upd[T.Plains]:Form_upd[T.TUB]                    -2640.7954    501.409     -5.267      0.000   -3623.539   -1658.052\n",
      "Geo_upd[T.South Central]:Form_upd[T.TUB]             -1809.6886    521.680     -3.469      0.001   -2832.163    -787.214\n",
      "Geo_upd[T.West]:Form_upd[T.TUB]                        930.4877    519.483      1.791      0.073     -87.681    1948.656\n",
      "Geo_upd[T.Southeast]:Form_upd[T.SPRAY/SQUEEZE]         1.47e+04    889.555     16.520      0.000     1.3e+04    1.64e+04\n",
      "Geo_upd[T.California]:Form_upd[T.SPRAY/SQUEEZE]       2230.0008   1063.347      2.097      0.036     145.879    4314.123\n",
      "Geo_upd[T.Great lakes]:Form_upd[T.SPRAY/SQUEEZE]      1.165e+04    899.032     12.955      0.000    9884.797    1.34e+04\n",
      "Geo_upd[T.Mid-South]:Form_upd[T.SPRAY/SQUEEZE]        1.474e+04    886.830     16.615      0.000     1.3e+04    1.65e+04\n",
      "Geo_upd[T.Plains]:Form_upd[T.SPRAY/SQUEEZE]           3932.1917    919.737      4.275      0.000    2129.540    5734.844\n",
      "Geo_upd[T.South Central]:Form_upd[T.SPRAY/SQUEEZE]    1.731e+04    925.024     18.715      0.000    1.55e+04    1.91e+04\n",
      "Geo_upd[T.West]:Form_upd[T.SPRAY/SQUEEZE]             3228.7484    922.741      3.499      0.000    1420.209    5037.288\n",
      "Geo_upd[T.Southeast]:Form_upd[T.ALL OTHER FORMS]      2.171e+05   1261.483    172.106      0.000    2.15e+05     2.2e+05\n",
      "Geo_upd[T.California]:Form_upd[T.ALL OTHER FORMS]    -6.423e+04   1297.647    -49.494      0.000   -6.68e+04   -6.17e+04\n",
      "Geo_upd[T.Great lakes]:Form_upd[T.ALL OTHER FORMS]    7.594e+04   1262.537     60.149      0.000    7.35e+04    7.84e+04\n",
      "Geo_upd[T.Mid-South]:Form_upd[T.ALL OTHER FORMS]      2.277e+05   1260.896    180.610      0.000    2.25e+05     2.3e+05\n",
      "Geo_upd[T.Plains]:Form_upd[T.ALL OTHER FORMS]         1.939e+04   1262.985     15.353      0.000    1.69e+04    2.19e+04\n",
      "Geo_upd[T.South Central]:Form_upd[T.ALL OTHER FORMS]  9.847e+04   1270.165     77.521      0.000     9.6e+04    1.01e+05\n",
      "Geo_upd[T.West]:Form_upd[T.ALL OTHER FORMS]          -2.873e+04   1267.428    -22.666      0.000   -3.12e+04   -2.62e+04\n",
      "Price_per_unit                                       -2181.1568     90.671    -24.056      0.000   -2358.868   -2003.446\n",
      "np.power(Price_per_unit, 2)                            109.6131      8.344     13.136      0.000      93.258     125.968\n",
      "========================================================================================================================\n"
     ]
    }
   ],
   "source": [
    "Dummy_upd_Conagra.reset_index()\n",
    "import statsmodels.api as sm\n",
    "# Define the categorical variables and their reference categories\n",
    "Dummy_upd_Conagra.loc[:, 'Form_upd'] = pd.Categorical(Dummy_upd_Conagra['Form_upd'], categories=[0, 1, 2, 3], ordered=True)\n",
    "Dummy_upd_Conagra.loc[:, 'SubCat_upd'] = pd.Categorical(Dummy_upd_Conagra['SubCat_upd'], categories=[0, 1, 2, 3], ordered=True)\n",
    "Dummy_upd_Conagra.loc[:, 'Tier_value_upd'] = pd.Categorical(Dummy_upd_Conagra['Tier_value_upd'], categories=[0, 1, 2, 3], ordered=True)\n",
    "Dummy_upd_Conagra.loc[:, 'Geo_upd'] = pd.Categorical(Dummy_upd_Conagra['Geo_upd'], categories=[0, 1, 2, 3, 4,5,6,7], ordered=True)\n",
    "\n",
    "Dummy_upd_Conagra.loc[:, 'SubCat_upd'] = Dummy_upd_Conagra['SubCat_upd'].cat.rename_categories(['RFG BUTTER', 'MARGERINE/SPREADS', 'BUTTERBLEND', 'BUTTER MILK'])\n",
    "Dummy_upd_Conagra.loc[:, 'Form_upd'] = Dummy_upd_Conagra['Form_upd'].cat.rename_categories(['STICK', 'TUB', 'SPRAY/SQUEEZE', 'ALL OTHER FORMS'])\n",
    "Dummy_upd_Conagra.loc[:, 'Tier_value_upd'] = Dummy_upd_Conagra['Tier_value_upd'].cat.rename_categories(['MAINSTREAM', 'PREMIUM', 'SUPER PREMIUM', 'VALUE'])\n",
    "Dummy_upd_Conagra.loc[:, 'Geo_upd'] = Dummy_upd_Conagra['Geo_upd'].cat.rename_categories(['Northeast', 'Southeast', 'California', 'Great lakes', 'Mid-South', 'Plains', 'South Central', 'West'])\n",
    "\n",
    "\n",
    "# Fit the   with the specified predictors and reference categories\n",
    "model2 = sm.formula.glm('Total_Unit_Sales ~ Price_per_unit + np.power(Price_per_unit, 2) + Form_upd + Geo_upd + Geo_upd:Form_upd', \n",
    "                       data=Dummy_upd_Conagra, family=sm.families.Gaussian()).fit()\n",
    "\n",
    "# Print the model summary\n",
    "print(model2.summary())"
   ]
  },
  {
   "cell_type": "code",
   "execution_count": 283,
   "metadata": {},
   "outputs": [
    {
     "name": "stdout",
     "output_type": "stream",
     "text": [
      "Form_upd\n",
      "STICK              8.051891e+07\n",
      "TUB                3.631055e+08\n",
      "SPRAY/SQUEEZE      6.428515e+07\n",
      "ALL OTHER FORMS    3.443651e+08\n",
      "Name: Total_Unit_Sales, dtype: float64\n"
     ]
    }
   ],
   "source": [
    "sales_sum = Dummy_upd_Conagra.groupby('Form_upd')['Total_Unit_Sales'].sum()\n",
    "\n",
    "# Print the sum of total dollar sales for each CAG form type\n",
    "print(sales_sum)"
   ]
  },
  {
   "cell_type": "code",
   "execution_count": 282,
   "metadata": {
    "scrolled": true
   },
   "outputs": [
    {
     "name": "stdout",
     "output_type": "stream",
     "text": [
      "Form_upd\n",
      "STICK              2.879012\n",
      "TUB                4.007480\n",
      "SPRAY/SQUEEZE      2.573604\n",
      "ALL OTHER FORMS    1.356000\n",
      "Name: Price_per_unit, dtype: float64\n"
     ]
    }
   ],
   "source": [
    "avg_price_per_unit = Dummy_upd_Conagra.groupby('Form_upd')['Price_per_unit'].mean()\n",
    "\n",
    "# Print the average price per unit for each CAG form type\n",
    "print(avg_price_per_unit)"
   ]
  },
  {
   "cell_type": "code",
   "execution_count": 289,
   "metadata": {
    "scrolled": false
   },
   "outputs": [
    {
     "name": "stdout",
     "output_type": "stream",
     "text": [
      "Form_upd\n",
      "STICK              1.684448e+09\n",
      "TUB                1.951368e+09\n",
      "SPRAY/SQUEEZE      1.244245e+08\n",
      "ALL OTHER FORMS    5.057371e+08\n",
      "Name: Total_Unit_Sales, dtype: float64\n"
     ]
    }
   ],
   "source": [
    "sales_sum2 = Dummy_upd_Top5.groupby('Form_upd')['Total_Unit_Sales'].sum()\n",
    "\n",
    "# Print the sum of total dollar sales for each CAG form type\n",
    "print(sales_sum2)"
   ]
  },
  {
   "cell_type": "code",
   "execution_count": 290,
   "metadata": {},
   "outputs": [
    {
     "name": "stdout",
     "output_type": "stream",
     "text": [
      "Form_upd\n",
      "STICK              3.880501\n",
      "TUB                3.927448\n",
      "SPRAY/SQUEEZE      3.048660\n",
      "ALL OTHER FORMS    3.565253\n",
      "Name: Price_per_unit, dtype: float64\n"
     ]
    }
   ],
   "source": [
    "avg_price_per_unit2 = Dummy_upd_Top5.groupby('Form_upd')['Price_per_unit'].mean()\n",
    "\n",
    "# Print the average price per unit for each CAG form type\n",
    "print(avg_price_per_unit2)"
   ]
  },
  {
   "cell_type": "markdown",
   "metadata": {},
   "source": [
    "# Q1 Second Regression: Top 5 Brands"
   ]
  },
  {
   "cell_type": "code",
   "execution_count": 344,
   "metadata": {
    "scrolled": false
   },
   "outputs": [
    {
     "name": "stderr",
     "output_type": "stream",
     "text": [
      "C:\\Users\\tpiku\\AppData\\Local\\Temp\\ipykernel_38816\\3568986408.py:4: SettingWithCopyWarning: \n",
      "A value is trying to be set on a copy of a slice from a DataFrame.\n",
      "Try using .loc[row_indexer,col_indexer] = value instead\n",
      "\n",
      "See the caveats in the documentation: https://pandas.pydata.org/pandas-docs/stable/user_guide/indexing.html#returning-a-view-versus-a-copy\n",
      "  Dummy_upd_Top5['Form_upd'] = pd.Categorical(Dummy_upd_Top5['Form_upd'], categories=[0, 1, 2, 3], ordered=True)\n",
      "C:\\Users\\tpiku\\AppData\\Local\\Temp\\ipykernel_38816\\3568986408.py:5: SettingWithCopyWarning: \n",
      "A value is trying to be set on a copy of a slice from a DataFrame.\n",
      "Try using .loc[row_indexer,col_indexer] = value instead\n",
      "\n",
      "See the caveats in the documentation: https://pandas.pydata.org/pandas-docs/stable/user_guide/indexing.html#returning-a-view-versus-a-copy\n",
      "  Dummy_upd_Top5['SubCat_upd'] = pd.Categorical(Dummy_upd_Top5['SubCat_upd'], categories= [ 0, 1, 2, 3 ], ordered=True)\n",
      "C:\\Users\\tpiku\\AppData\\Local\\Temp\\ipykernel_38816\\3568986408.py:6: SettingWithCopyWarning: \n",
      "A value is trying to be set on a copy of a slice from a DataFrame.\n",
      "Try using .loc[row_indexer,col_indexer] = value instead\n",
      "\n",
      "See the caveats in the documentation: https://pandas.pydata.org/pandas-docs/stable/user_guide/indexing.html#returning-a-view-versus-a-copy\n",
      "  Dummy_upd_Top5['Tier_value_upd'] = pd.Categorical(Dummy_upd_Top5['Tier_value_upd'], categories= [ 0, 1, 2, 3 ], ordered=True)\n",
      "C:\\Users\\tpiku\\AppData\\Local\\Temp\\ipykernel_38816\\3568986408.py:7: SettingWithCopyWarning: \n",
      "A value is trying to be set on a copy of a slice from a DataFrame.\n",
      "Try using .loc[row_indexer,col_indexer] = value instead\n",
      "\n",
      "See the caveats in the documentation: https://pandas.pydata.org/pandas-docs/stable/user_guide/indexing.html#returning-a-view-versus-a-copy\n",
      "  Dummy_upd_Top5['Geo_upd'] = pd.Categorical(Dummy_upd_Top5['Geo_upd'], categories=[0, 1, 2, 3, 4,5,6,7], ordered=True)\n",
      "C:\\Users\\tpiku\\AppData\\Local\\Temp\\ipykernel_38816\\3568986408.py:9: SettingWithCopyWarning: \n",
      "A value is trying to be set on a copy of a slice from a DataFrame.\n",
      "Try using .loc[row_indexer,col_indexer] = value instead\n",
      "\n",
      "See the caveats in the documentation: https://pandas.pydata.org/pandas-docs/stable/user_guide/indexing.html#returning-a-view-versus-a-copy\n",
      "  Dummy_upd_Top5['SubCat_upd'] = Dummy_upd_Top5['SubCat_upd'].cat.rename_categories(['RFG BUTTER', 'MARGERINE/SPREADS', 'BUTTERBLEND', 'BUTTER MILK'])\n",
      "C:\\Users\\tpiku\\AppData\\Local\\Temp\\ipykernel_38816\\3568986408.py:10: SettingWithCopyWarning: \n",
      "A value is trying to be set on a copy of a slice from a DataFrame.\n",
      "Try using .loc[row_indexer,col_indexer] = value instead\n",
      "\n",
      "See the caveats in the documentation: https://pandas.pydata.org/pandas-docs/stable/user_guide/indexing.html#returning-a-view-versus-a-copy\n",
      "  Dummy_upd_Top5['Form_upd'] = Dummy_upd_Top5['Form_upd'].cat.rename_categories(['STICK', 'TUB', 'SPRAY/SQUEEZE', 'ALL OTHER FORMS'])\n",
      "C:\\Users\\tpiku\\AppData\\Local\\Temp\\ipykernel_38816\\3568986408.py:11: SettingWithCopyWarning: \n",
      "A value is trying to be set on a copy of a slice from a DataFrame.\n",
      "Try using .loc[row_indexer,col_indexer] = value instead\n",
      "\n",
      "See the caveats in the documentation: https://pandas.pydata.org/pandas-docs/stable/user_guide/indexing.html#returning-a-view-versus-a-copy\n",
      "  Dummy_upd_Top5['Tier_value_upd'] = Dummy_upd_Top5['Tier_value_upd'].cat.rename_categories(['MAINSTREAM', 'PREMIUM', 'SUPER PREMIUM', 'VALUE'])\n",
      "C:\\Users\\tpiku\\AppData\\Local\\Temp\\ipykernel_38816\\3568986408.py:12: SettingWithCopyWarning: \n",
      "A value is trying to be set on a copy of a slice from a DataFrame.\n",
      "Try using .loc[row_indexer,col_indexer] = value instead\n",
      "\n",
      "See the caveats in the documentation: https://pandas.pydata.org/pandas-docs/stable/user_guide/indexing.html#returning-a-view-versus-a-copy\n",
      "  Dummy_upd_Top5['Geo_upd'] = Dummy_upd_Top5['Geo_upd'].cat.rename_categories(['Northeast', 'Southeast', 'California', 'Great lakes', 'Mid-South', 'Plains', 'South Central', 'West'])\n"
     ]
    },
    {
     "name": "stdout",
     "output_type": "stream",
     "text": [
      "                 Generalized Linear Model Regression Results                  \n",
      "==============================================================================\n",
      "Dep. Variable:       Total_Unit_Sales   No. Observations:               255748\n",
      "Model:                            GLM   Df Residuals:                   255714\n",
      "Model Family:                Gaussian   Df Model:                           33\n",
      "Link Function:               identity   Scale:                      1.4034e+09\n",
      "Method:                          IRLS   Log-Likelihood:            -3.0562e+06\n",
      "Date:                Tue, 09 May 2023   Deviance:                   3.5886e+14\n",
      "Time:                        23:44:32   Pearson chi2:                 3.59e+14\n",
      "No. Iterations:                     3   Pseudo R-squ. (CS):            0.08676\n",
      "Covariance Type:            nonrobust                                         \n",
      "========================================================================================================================\n",
      "                                                           coef    std err          z      P>|z|      [0.025      0.975]\n",
      "------------------------------------------------------------------------------------------------------------------------\n",
      "Intercept                                             5.079e+04    536.022     94.750      0.000    4.97e+04    5.18e+04\n",
      "Form_upd[T.TUB]                                      -1.764e+04    497.023    -35.482      0.000   -1.86e+04   -1.67e+04\n",
      "Form_upd[T.SPRAY/SQUEEZE]                            -2.176e+04   1195.730    -18.199      0.000   -2.41e+04   -1.94e+04\n",
      "Form_upd[T.ALL OTHER FORMS]                           1048.4167   1128.450      0.929      0.353   -1163.304    3260.137\n",
      "Geo_upd[T.Southeast]                                  -964.7556    591.559     -1.631      0.103   -2124.189     194.678\n",
      "Geo_upd[T.California]                                -1.138e+04    610.427    -18.639      0.000   -1.26e+04   -1.02e+04\n",
      "Geo_upd[T.Great lakes]                               -2014.0649    586.065     -3.437      0.001   -3162.731    -865.399\n",
      "Geo_upd[T.Mid-South]                                 -8018.8483    583.753    -13.737      0.000   -9162.984   -6874.713\n",
      "Geo_upd[T.Plains]                                    -2.179e+04    594.511    -36.645      0.000    -2.3e+04   -2.06e+04\n",
      "Geo_upd[T.South Central]                             -7361.5095    587.923    -12.521      0.000   -8513.818   -6209.201\n",
      "Geo_upd[T.West]                                      -1.494e+04    583.264    -25.617      0.000   -1.61e+04   -1.38e+04\n",
      "Geo_upd[T.Southeast]:Form_upd[T.TUB]                  1208.3293    690.731      1.749      0.080    -145.479    2562.138\n",
      "Geo_upd[T.California]:Form_upd[T.TUB]                 6335.1013    716.041      8.847      0.000    4931.688    7738.515\n",
      "Geo_upd[T.Great lakes]:Form_upd[T.TUB]                -161.9832    682.869     -0.237      0.812   -1500.381    1176.414\n",
      "Geo_upd[T.Mid-South]:Form_upd[T.TUB]                  3746.5803    680.898      5.502      0.000    2412.044    5081.116\n",
      "Geo_upd[T.Plains]:Form_upd[T.TUB]                     1.276e+04    694.269     18.385      0.000    1.14e+04    1.41e+04\n",
      "Geo_upd[T.South Central]:Form_upd[T.TUB]              3485.7233    688.987      5.059      0.000    2135.333    4836.113\n",
      "Geo_upd[T.West]:Form_upd[T.TUB]                       9294.8054    689.679     13.477      0.000    7943.060    1.06e+04\n",
      "Geo_upd[T.Southeast]:Form_upd[T.SPRAY/SQUEEZE]        7114.3417   1654.233      4.301      0.000    3872.105    1.04e+04\n",
      "Geo_upd[T.California]:Form_upd[T.SPRAY/SQUEEZE]       6648.9795   1791.764      3.711      0.000    3137.186    1.02e+04\n",
      "Geo_upd[T.Great lakes]:Form_upd[T.SPRAY/SQUEEZE]      5623.2693   1667.541      3.372      0.001    2354.950    8891.589\n",
      "Geo_upd[T.Mid-South]:Form_upd[T.SPRAY/SQUEEZE]        1.371e+04   1658.049      8.266      0.000    1.05e+04     1.7e+04\n",
      "Geo_upd[T.Plains]:Form_upd[T.SPRAY/SQUEEZE]           1.559e+04   1692.382      9.211      0.000    1.23e+04    1.89e+04\n",
      "Geo_upd[T.South Central]:Form_upd[T.SPRAY/SQUEEZE]    1.035e+04   1688.362      6.128      0.000    7037.692    1.37e+04\n",
      "Geo_upd[T.West]:Form_upd[T.SPRAY/SQUEEZE]             9017.4995   1685.083      5.351      0.000    5714.797    1.23e+04\n",
      "Geo_upd[T.Southeast]:Form_upd[T.ALL OTHER FORMS]      4.348e+04   1558.326     27.900      0.000    4.04e+04    4.65e+04\n",
      "Geo_upd[T.California]:Form_upd[T.ALL OTHER FORMS]    -6999.3358   1504.610     -4.652      0.000   -9948.317   -4050.355\n",
      "Geo_upd[T.Great lakes]:Form_upd[T.ALL OTHER FORMS]    1886.0136   1497.433      1.259      0.208   -1048.901    4820.928\n",
      "Geo_upd[T.Mid-South]:Form_upd[T.ALL OTHER FORMS]      4.008e+04   1535.547     26.102      0.000    3.71e+04    4.31e+04\n",
      "Geo_upd[T.Plains]:Form_upd[T.ALL OTHER FORMS]         1.039e+04   1552.305      6.694      0.000    7348.292    1.34e+04\n",
      "Geo_upd[T.South Central]:Form_upd[T.ALL OTHER FORMS]  2.326e+04   1553.782     14.972      0.000    2.02e+04    2.63e+04\n",
      "Geo_upd[T.West]:Form_upd[T.ALL OTHER FORMS]            227.8216   1499.044      0.152      0.879   -2710.251    3165.894\n",
      "Price_per_unit                                       -6460.1622    141.874    -45.535      0.000   -6738.229   -6182.095\n",
      "np.power(Price_per_unit, 2)                            385.4035     13.430     28.698      0.000     359.082     411.725\n",
      "========================================================================================================================\n"
     ]
    }
   ],
   "source": [
    "Dummy_upd.reset_index()\n",
    "import statsmodels.api as sm\n",
    "# Define the categorical variables and their reference categories\n",
    "Dummy_upd_Top5['Form_upd'] = pd.Categorical(Dummy_upd_Top5['Form_upd'], categories=[0, 1, 2, 3], ordered=True)\n",
    "Dummy_upd_Top5['SubCat_upd'] = pd.Categorical(Dummy_upd_Top5['SubCat_upd'], categories= [ 0, 1, 2, 3 ], ordered=True)\n",
    "Dummy_upd_Top5['Tier_value_upd'] = pd.Categorical(Dummy_upd_Top5['Tier_value_upd'], categories= [ 0, 1, 2, 3 ], ordered=True)\n",
    "Dummy_upd_Top5['Geo_upd'] = pd.Categorical(Dummy_upd_Top5['Geo_upd'], categories=[0, 1, 2, 3, 4,5,6,7], ordered=True)\n",
    "\n",
    "Dummy_upd_Top5['SubCat_upd'] = Dummy_upd_Top5['SubCat_upd'].cat.rename_categories(['RFG BUTTER', 'MARGERINE/SPREADS', 'BUTTERBLEND', 'BUTTER MILK'])\n",
    "Dummy_upd_Top5['Form_upd'] = Dummy_upd_Top5['Form_upd'].cat.rename_categories(['STICK', 'TUB', 'SPRAY/SQUEEZE', 'ALL OTHER FORMS'])\n",
    "Dummy_upd_Top5['Tier_value_upd'] = Dummy_upd_Top5['Tier_value_upd'].cat.rename_categories(['MAINSTREAM', 'PREMIUM', 'SUPER PREMIUM', 'VALUE'])\n",
    "Dummy_upd_Top5['Geo_upd'] = Dummy_upd_Top5['Geo_upd'].cat.rename_categories(['Northeast', 'Southeast', 'California', 'Great lakes', 'Mid-South', 'Plains', 'South Central', 'West'])\n",
    "\n",
    "# Fit the   with the specified predictors and reference categories\n",
    "model = sm.formula.glm('Total_Unit_Sales ~ Price_per_unit + np.power(Price_per_unit, 2) + Form_upd + Geo_upd + Geo_upd:Form_upd', \n",
    "                       data=Dummy_upd_Top5, family=sm.families.Gaussian()).fit()\n",
    "\n",
    "# Print the model summary\n",
    "print(model.summary())"
   ]
  },
  {
   "cell_type": "markdown",
   "metadata": {},
   "source": [
    "# Question 2 / Question 3"
   ]
  },
  {
   "cell_type": "code",
   "execution_count": 122,
   "metadata": {},
   "outputs": [],
   "source": [
    "Dummydata2=pd.read_csv(r\"C:\\Users\\tpiku\\Downloads\\Final_Table.csv\")"
   ]
  },
  {
   "cell_type": "code",
   "execution_count": 123,
   "metadata": {},
   "outputs": [],
   "source": [
    "dummy_vars2 = pd.get_dummies(Dummydata2['CAG Tier Value'], prefix = 'Tier')\n",
    "dummy_vars3 = pd.get_dummies(Dummydata2['Sub-Category Name'], prefix = 'Sub-Cat')"
   ]
  },
  {
   "cell_type": "code",
   "execution_count": 124,
   "metadata": {},
   "outputs": [],
   "source": [
    "#seperate price by percentage\n",
    "Dummydata2['price_buckets'] = pd.qcut(Dummydata2['Price per Unit'], q=[0, 0.33, 0.66, 1], labels=['low', 'medium', 'high'])\n",
    "dummy_vars = pd.get_dummies(Dummydata2['price_buckets'], prefix='price')"
   ]
  },
  {
   "cell_type": "code",
   "execution_count": 125,
   "metadata": {},
   "outputs": [],
   "source": [
    "#Concat to data frame\n",
    "Dummy_upd_Top2 = pd.concat([Dummydata2, dummy_vars, dummy_vars2, dummy_vars3], axis=1)\n",
    "\n",
    "# show the final dataframe\n"
   ]
  },
  {
   "cell_type": "code",
   "execution_count": 126,
   "metadata": {},
   "outputs": [],
   "source": [
    "Dummy_upd_Top2.columns = Dummy_upd_Top2.columns.str.replace(' ', '_')"
   ]
  },
  {
   "cell_type": "code",
   "execution_count": 127,
   "metadata": {},
   "outputs": [],
   "source": [
    "Dummy_upd_Top2 = Dummy_upd_Top2.drop(['Sub-Cat_HAND_&_BODY_LOTION', 'Sub-Cat_RFG_SAUCE/GRAVY/MARINADE_MIXES', 'Product'], axis=1)"
   ]
  },
  {
   "cell_type": "code",
   "execution_count": 128,
   "metadata": {},
   "outputs": [],
   "source": [
    "#Copy Data Fram for Q3\n",
    "\n",
    "Dummy_upd_Top3 = Dummy_upd_Top2.copy()"
   ]
  },
  {
   "cell_type": "code",
   "execution_count": 129,
   "metadata": {
    "scrolled": true
   },
   "outputs": [
    {
     "name": "stdout",
     "output_type": "stream",
     "text": [
      "Index(['Geography', 'Time', 'Product_Description', 'UPC_13_digit',\n",
      "       'Dollar_Sales_No_Merch', 'Dollar_Sales_Any_Merch',\n",
      "       'Unit_Sales_No_Merch', 'Unit_Sales_Any_Merch', 'Volume_Sales_No_Merch',\n",
      "       'Volume_Sales_Any_Merch', 'Price_per_Unit', 'Price_per_Unit_No_Merch',\n",
      "       'Price_per_Unit_Any_Merch', 'Price_per_Volume',\n",
      "       'Price_per_Volume_No_Merch', 'Price_per_Volume_Any_Merch',\n",
      "       'ACV_Weighted_Distribution_No_Merch',\n",
      "       'ACV_Weighted_Distribution_Any_Merch', 'Base_Unit_Sales',\n",
      "       'Base_Volume_Sales', 'Base_Dollar_Sales', 'Incremental_Units',\n",
      "       'Incremental_Volume', 'Incremental_Dollars', 'Year',\n",
      "       'CAG_Major_Brand_Value', 'CAG_Manufacturer_Value', 'Sub-Category_Name',\n",
      "       'CAG_Category_Value', 'CAG_Count_Value', 'CAG_Ounces_Value',\n",
      "       'CAG_Form_Value', 'Form', 'CAG_Tier_Value', 'Total_Unit_Sales',\n",
      "       'Total_Volume_Sales', 'Total_Dollar_Sales', 'price_buckets',\n",
      "       'price_low', 'price_medium', 'price_high', 'Tier_MAINSTREAM',\n",
      "       'Tier_PREMIUM', 'Tier_SUPER_PREMIUM', 'Tier_TBD', 'Tier_VALUE',\n",
      "       'Sub-Cat_MARGARINE/SPREADS', 'Sub-Cat_RFG_BUTTER',\n",
      "       'Sub-Cat_RFG_BUTTER_BLENDS', 'Sub-Cat_RFG_FLAVORED_MILK'],\n",
      "      dtype='object')\n"
     ]
    }
   ],
   "source": [
    "print(Dummy_upd_Top2.columns)"
   ]
  },
  {
   "cell_type": "code",
   "execution_count": 130,
   "metadata": {},
   "outputs": [],
   "source": [
    "#Q2 Dummies\n",
    "Dummy_upd_Top2['Form_upd'] = np.select([Dummy_upd_Top2['CAG_Form_Value'] =='STICKS', \n",
    "                                   Dummy_upd_Top2['CAG_Form_Value'] == 'TUBS', \n",
    "                                   Dummy_upd_Top2['CAG_Form_Value'] == 'SPRAY/SQUEEZE', \n",
    "                                   Dummy_upd_Top2['CAG_Form_Value'] == 'ALL OTHER FORM'], \n",
    "                                  [ 0, 1, 2, 3 ], default=4)"
   ]
  },
  {
   "cell_type": "code",
   "execution_count": 131,
   "metadata": {},
   "outputs": [],
   "source": [
    "#Q3 Dummies\n",
    "Dummy_upd_Top3['price_buckets'] = np.select([Dummy_upd_Top3['price_buckets'] =='high', \n",
    "                                   Dummy_upd_Top3['price_buckets'] == 'med', \n",
    "                                   Dummy_upd_Top3['price_buckets'] == 'low'], \n",
    "                                  [ 0, 1, 2], default=3)"
   ]
  },
  {
   "cell_type": "code",
   "execution_count": 132,
   "metadata": {},
   "outputs": [
    {
     "name": "stdout",
     "output_type": "stream",
     "text": [
      "Index(['Geography', 'Time', 'Product_Description', 'UPC_13_digit',\n",
      "       'Dollar_Sales_No_Merch', 'Dollar_Sales_Any_Merch',\n",
      "       'Unit_Sales_No_Merch', 'Unit_Sales_Any_Merch', 'Volume_Sales_No_Merch',\n",
      "       'Volume_Sales_Any_Merch', 'Price_per_Unit', 'Price_per_Unit_No_Merch',\n",
      "       'Price_per_Unit_Any_Merch', 'Price_per_Volume',\n",
      "       'Price_per_Volume_No_Merch', 'Price_per_Volume_Any_Merch',\n",
      "       'ACV_Weighted_Distribution_No_Merch',\n",
      "       'ACV_Weighted_Distribution_Any_Merch', 'Base_Unit_Sales',\n",
      "       'Base_Volume_Sales', 'Base_Dollar_Sales', 'Incremental_Units',\n",
      "       'Incremental_Volume', 'Incremental_Dollars', 'Year',\n",
      "       'CAG_Major_Brand_Value', 'CAG_Manufacturer_Value', 'Sub-Category_Name',\n",
      "       'CAG_Category_Value', 'CAG_Count_Value', 'CAG_Ounces_Value',\n",
      "       'CAG_Form_Value', 'Form', 'CAG_Tier_Value', 'Total_Unit_Sales',\n",
      "       'Total_Volume_Sales', 'Total_Dollar_Sales', 'price_buckets',\n",
      "       'price_low', 'price_medium', 'price_high', 'Tier_MAINSTREAM',\n",
      "       'Tier_PREMIUM', 'Tier_SUPER_PREMIUM', 'Tier_TBD', 'Tier_VALUE',\n",
      "       'Sub-Cat_MARGARINE/SPREADS', 'Sub-Cat_RFG_BUTTER',\n",
      "       'Sub-Cat_RFG_BUTTER_BLENDS', 'Sub-Cat_RFG_FLAVORED_MILK'],\n",
      "      dtype='object')\n"
     ]
    }
   ],
   "source": [
    "print(Dummy_upd_Top3.columns)"
   ]
  },
  {
   "cell_type": "code",
   "execution_count": 133,
   "metadata": {},
   "outputs": [],
   "source": [
    "dummy_vars4 = pd.get_dummies(Dummy_upd_Top3['Geography'], prefix = 'Geo')\n",
    "dummy_vars1 = pd.get_dummies(Dummy_upd_Top3['CAG_Form_Value'], prefix = 'Form')"
   ]
  },
  {
   "cell_type": "code",
   "execution_count": 134,
   "metadata": {},
   "outputs": [
    {
     "name": "stdout",
     "output_type": "stream",
     "text": [
      "Index(['Geography', 'Time', 'Product_Description', 'UPC_13_digit',\n",
      "       'Dollar_Sales_No_Merch', 'Dollar_Sales_Any_Merch',\n",
      "       'Unit_Sales_No_Merch', 'Unit_Sales_Any_Merch', 'Volume_Sales_No_Merch',\n",
      "       'Volume_Sales_Any_Merch', 'Price_per_Unit', 'Price_per_Unit_No_Merch',\n",
      "       'Price_per_Unit_Any_Merch', 'Price_per_Volume',\n",
      "       'Price_per_Volume_No_Merch', 'Price_per_Volume_Any_Merch',\n",
      "       'ACV_Weighted_Distribution_No_Merch',\n",
      "       'ACV_Weighted_Distribution_Any_Merch', 'Base_Unit_Sales',\n",
      "       'Base_Volume_Sales', 'Base_Dollar_Sales', 'Incremental_Units',\n",
      "       'Incremental_Volume', 'Incremental_Dollars', 'Year',\n",
      "       'CAG_Major_Brand_Value', 'CAG_Manufacturer_Value', 'Sub-Category_Name',\n",
      "       'CAG_Category_Value', 'CAG_Count_Value', 'CAG_Ounces_Value',\n",
      "       'CAG_Form_Value', 'Form', 'CAG_Tier_Value', 'Total_Unit_Sales',\n",
      "       'Total_Volume_Sales', 'Total_Dollar_Sales', 'price_buckets',\n",
      "       'price_low', 'price_medium', 'price_high', 'Tier_MAINSTREAM',\n",
      "       'Tier_PREMIUM', 'Tier_SUPER_PREMIUM', 'Tier_TBD', 'Tier_VALUE',\n",
      "       'Sub-Cat_MARGARINE/SPREADS', 'Sub-Cat_RFG_BUTTER',\n",
      "       'Sub-Cat_RFG_BUTTER_BLENDS', 'Sub-Cat_RFG_FLAVORED_MILK',\n",
      "       'Geo_California - IRI Standard - Multi Outlet + Conv',\n",
      "       'Geo_Great Lakes - IRI Standard - Multi Outlet + Conv',\n",
      "       'Geo_Mid-South - IRI Standard - Multi Outlet + Conv',\n",
      "       'Geo_Northeast - IRI Standard - Multi Outlet + Conv',\n",
      "       'Geo_Plains - IRI Standard - Multi Outlet + Conv',\n",
      "       'Geo_South Central - IRI Standard - Multi Outlet + Conv',\n",
      "       'Geo_Southeast - IRI Standard - Multi Outlet + Conv',\n",
      "       'Geo_West - IRI Standard - Multi Outlet + Conv', 'Form_ALL OTHER FORM',\n",
      "       'Form_SPRAY/SQUEEZE', 'Form_STICKS', 'Form_TUBS'],\n",
      "      dtype='object')\n"
     ]
    }
   ],
   "source": [
    "#Adding Geo dummies for Q3\n",
    "Dummy_upd_Top3 = pd.concat([Dummy_upd_Top3, dummy_vars4, dummy_vars1], axis=1)\n",
    "\n",
    "print(Dummy_upd_Top3.columns)\n"
   ]
  },
  {
   "cell_type": "markdown",
   "metadata": {},
   "source": [
    "# Question 2 Regression"
   ]
  },
  {
   "cell_type": "code",
   "execution_count": 135,
   "metadata": {},
   "outputs": [
    {
     "name": "stdout",
     "output_type": "stream",
     "text": [
      "Warning: Maximum number of iterations has been exceeded.\n",
      "         Current function value: 0.819463\n",
      "         Iterations: 75\n"
     ]
    },
    {
     "name": "stderr",
     "output_type": "stream",
     "text": [
      "C:\\Users\\tpiku\\anaconda3\\lib\\site-packages\\statsmodels\\base\\model.py:604: ConvergenceWarning: Maximum Likelihood optimization failed to converge. Check mle_retvals\n",
      "  warnings.warn(\"Maximum Likelihood optimization failed to \"\n"
     ]
    },
    {
     "name": "stdout",
     "output_type": "stream",
     "text": [
      "                          MNLogit Regression Results                          \n",
      "==============================================================================\n",
      "Dep. Variable:         CAG_Form_Value   No. Observations:              1002565\n",
      "Model:                        MNLogit   Df Residuals:                  1002538\n",
      "Method:                           MLE   Df Model:                           24\n",
      "Date:                Mon, 08 May 2023   Pseudo R-squ.:                  0.2521\n",
      "Time:                        19:28:28   Log-Likelihood:            -8.2156e+05\n",
      "converged:                      False   LL-Null:                   -1.0985e+06\n",
      "Covariance Type:            nonrobust   LLR p-value:                     0.000\n",
      "=============================================================================================\n",
      "CAG_Form_Value=SPRAY/SQUEEZE       coef    std err          z      P>|z|      [0.025      0.975]\n",
      "------------------------------------------------------------------------------------------------\n",
      "const                          -26.4994    824.279     -0.032      0.974   -1642.056    1589.057\n",
      "price_medium                     0.2009      0.023      8.735      0.000       0.156       0.246\n",
      "price_high                      -2.3012      0.044    -51.925      0.000      -2.388      -2.214\n",
      "Tier_MAINSTREAM                  6.1015      0.219     27.835      0.000       5.672       6.531\n",
      "Tier_PREMIUM                     6.8356      0.219     31.170      0.000       6.406       7.265\n",
      "Tier_SUPER_PREMIUM               5.1020      0.223     22.919      0.000       4.666       5.538\n",
      "Sub-Cat_MARGARINE/SPREADS       20.6453    824.279      0.025      0.980   -1594.911    1636.202\n",
      "Sub-Cat_RFG_BUTTER              16.0199    824.279      0.019      0.984   -1599.537    1631.576\n",
      "Sub-Cat_RFG_BUTTER_BLENDS       16.9598    824.279      0.021      0.984   -1598.597    1632.516\n",
      "------------------------------------------------------------------------------------------------\n",
      "    CAG_Form_Value=STICKS       coef    std err          z      P>|z|      [0.025      0.975]\n",
      "---------------------------------------------------------------------------------------------\n",
      "const                        -1.1313      0.035    -32.673      0.000      -1.199      -1.063\n",
      "price_medium                  0.3494      0.009     40.528      0.000       0.333       0.366\n",
      "price_high                    0.2286      0.008     27.113      0.000       0.212       0.245\n",
      "Tier_MAINSTREAM               1.2506      0.017     74.461      0.000       1.218       1.284\n",
      "Tier_PREMIUM                  0.2662      0.017     15.584      0.000       0.233       0.300\n",
      "Tier_SUPER_PREMIUM           -0.8853      0.017    -51.164      0.000      -0.919      -0.851\n",
      "Sub-Cat_MARGARINE/SPREADS     1.9217      0.035     54.764      0.000       1.853       1.990\n",
      "Sub-Cat_RFG_BUTTER            1.4576      0.035     41.122      0.000       1.388       1.527\n",
      "Sub-Cat_RFG_BUTTER_BLENDS    -0.7663      0.045    -17.088      0.000      -0.854      -0.678\n",
      "---------------------------------------------------------------------------------------------\n",
      "      CAG_Form_Value=TUBS       coef    std err          z      P>|z|      [0.025      0.975]\n",
      "---------------------------------------------------------------------------------------------\n",
      "const                        -1.1501      0.033    -34.565      0.000      -1.215      -1.085\n",
      "price_medium                  0.2214      0.009     24.581      0.000       0.204       0.239\n",
      "price_high                   -0.0925      0.009    -10.312      0.000      -0.110      -0.075\n",
      "Tier_MAINSTREAM               1.3552      0.016     86.834      0.000       1.325       1.386\n",
      "Tier_PREMIUM                  0.9171      0.016     57.568      0.000       0.886       0.948\n",
      "Tier_SUPER_PREMIUM            0.5696      0.016     35.347      0.000       0.538       0.601\n",
      "Sub-Cat_MARGARINE/SPREADS     3.1131      0.033     94.205      0.000       3.048       3.178\n",
      "Sub-Cat_RFG_BUTTER           -0.1904      0.033     -5.766      0.000      -0.255      -0.126\n",
      "Sub-Cat_RFG_BUTTER_BLENDS     2.6594      0.035     76.520      0.000       2.591       2.727\n",
      "=============================================================================================\n"
     ]
    }
   ],
   "source": [
    "#Q2 Logit\n",
    "\n",
    "import statsmodels.api as sm\n",
    "# Create design matrix\n",
    "X = pd.get_dummies(Dummy_upd_Top2[[ 'price_medium', 'price_high', 'Tier_MAINSTREAM','Tier_PREMIUM','Tier_SUPER_PREMIUM','Sub-Cat_MARGARINE/SPREADS', 'Sub-Cat_RFG_BUTTER','Sub-Cat_RFG_BUTTER_BLENDS',]], drop_first=True)\n",
    "\n",
    "# Create response variable\n",
    "y = Dummy_upd_Top2['CAG_Form_Value']\n",
    "\n",
    "# Fit multinomial logit model\n",
    "model = sm.MNLogit(y, sm.add_constant(X)).fit(maxiter=75)\n",
    "\n",
    "# Print model summary\n",
    "print(model.summary())"
   ]
  },
  {
   "cell_type": "markdown",
   "metadata": {},
   "source": [
    "# Question 3 Regression"
   ]
  },
  {
   "cell_type": "code",
   "execution_count": 18,
   "metadata": {
    "scrolled": true
   },
   "outputs": [
    {
     "name": "stdout",
     "output_type": "stream",
     "text": [
      "Optimization terminated successfully.\n",
      "         Current function value: 1.028396\n",
      "         Iterations 7\n",
      "                          MNLogit Regression Results                          \n",
      "==============================================================================\n",
      "Dep. Variable:          price_buckets   No. Observations:               701796\n",
      "Model:                        MNLogit   Df Residuals:                   701768\n",
      "Method:                           MLE   Df Model:                           26\n",
      "Date:                Thu, 04 May 2023   Pseudo R-squ.:                 0.06369\n",
      "Time:                        16:09:01   Log-Likelihood:            -7.2172e+05\n",
      "converged:                       True   LL-Null:                   -7.7082e+05\n",
      "Covariance Type:            nonrobust   LLR p-value:                     0.000\n",
      "========================================================================================================================\n",
      "                                     price_buckets=2       coef    std err          z      P>|z|      [0.025      0.975]\n",
      "------------------------------------------------------------------------------------------------------------------------\n",
      "const                                                   -2.1453      0.065    -32.896      0.000      -2.273      -2.018\n",
      "Form_ALL OTHER FORM                                     -0.2955      0.009    -32.295      0.000      -0.313      -0.278\n",
      "Form_SPRAY/SQUEEZE                                       1.5060      0.051     29.585      0.000       1.406       1.606\n",
      "Form_TUBS                                               -0.0541      0.008     -6.434      0.000      -0.071      -0.038\n",
      "Sub-Cat_MARGARINE/SPREADS                                3.4237      0.065     52.722      0.000       3.296       3.551\n",
      "Sub-Cat_RFG_BUTTER                                       1.7917      0.065     27.664      0.000       1.665       1.919\n",
      "Sub-Cat_RFG_BUTTER_BLENDS                                2.9885      0.066     45.581      0.000       2.860       3.117\n",
      "Geo_California - IRI Standard - Multi Outlet + Conv     -1.0591      0.014    -73.164      0.000      -1.088      -1.031\n",
      "Geo_Great Lakes - IRI Standard - Multi Outlet + Conv    -0.3227      0.013    -25.227      0.000      -0.348      -0.298\n",
      "Geo_Mid-South - IRI Standard - Multi Outlet + Conv       0.0837      0.013      6.492      0.000       0.058       0.109\n",
      "Geo_Northeast - IRI Standard - Multi Outlet + Conv      -0.3139      0.012    -25.600      0.000      -0.338      -0.290\n",
      "Geo_Plains - IRI Standard - Multi Outlet + Conv         -0.3319      0.014    -24.429      0.000      -0.359      -0.305\n",
      "Geo_Southeast - IRI Standard - Multi Outlet + Conv      -0.1423      0.013    -10.636      0.000      -0.168      -0.116\n",
      "Geo_West - IRI Standard - Multi Outlet + Conv           -0.6203      0.014    -45.232      0.000      -0.647      -0.593\n",
      "------------------------------------------------------------------------------------------------------------------------\n",
      "                                     price_buckets=3       coef    std err          z      P>|z|      [0.025      0.975]\n",
      "------------------------------------------------------------------------------------------------------------------------\n",
      "const                                                   -1.0315      0.039    -26.404      0.000      -1.108      -0.955\n",
      "Form_ALL OTHER FORM                                     -0.2872      0.008    -35.757      0.000      -0.303      -0.271\n",
      "Form_SPRAY/SQUEEZE                                       2.0843      0.051     41.015      0.000       1.985       2.184\n",
      "Form_TUBS                                                0.0498      0.008      6.141      0.000       0.034       0.066\n",
      "Sub-Cat_MARGARINE/SPREADS                                1.3679      0.039     35.357      0.000       1.292       1.444\n",
      "Sub-Cat_RFG_BUTTER                                       1.1273      0.038     29.495      0.000       1.052       1.202\n",
      "Sub-Cat_RFG_BUTTER_BLENDS                                1.5437      0.040     38.923      0.000       1.466       1.621\n",
      "Geo_California - IRI Standard - Multi Outlet + Conv     -0.5796      0.013    -43.320      0.000      -0.606      -0.553\n",
      "Geo_Great Lakes - IRI Standard - Multi Outlet + Conv    -0.1717      0.012    -13.795      0.000      -0.196      -0.147\n",
      "Geo_Mid-South - IRI Standard - Multi Outlet + Conv      -0.0117      0.013     -0.914      0.361      -0.037       0.013\n",
      "Geo_Northeast - IRI Standard - Multi Outlet + Conv      -0.2824      0.012    -23.433      0.000      -0.306      -0.259\n",
      "Geo_Plains - IRI Standard - Multi Outlet + Conv         -0.1501      0.013    -11.430      0.000      -0.176      -0.124\n",
      "Geo_Southeast - IRI Standard - Multi Outlet + Conv      -0.1112      0.013     -8.391      0.000      -0.137      -0.085\n",
      "Geo_West - IRI Standard - Multi Outlet + Conv           -0.3154      0.013    -24.183      0.000      -0.341      -0.290\n",
      "========================================================================================================================\n"
     ]
    }
   ],
   "source": [
    "#Q3 Logit\n",
    "\n",
    "import statsmodels.api as sm\n",
    "# Create design matrix\n",
    "X = pd.get_dummies(Dummy_upd_Top3[[ 'Form_ALL OTHER FORM','Form_SPRAY/SQUEEZE', 'Form_TUBS', 'Sub-Cat_MARGARINE/SPREADS', 'Sub-Cat_RFG_BUTTER','Sub-Cat_RFG_BUTTER_BLENDS', 'Geo_California - IRI Standard - Multi Outlet + Conv',\n",
    "       'Geo_Great Lakes - IRI Standard - Multi Outlet + Conv',\n",
    "       'Geo_Mid-South - IRI Standard - Multi Outlet + Conv',\n",
    "       'Geo_Northeast - IRI Standard - Multi Outlet + Conv',\n",
    "       'Geo_Plains - IRI Standard - Multi Outlet + Conv',\n",
    "       'Geo_Southeast - IRI Standard - Multi Outlet + Conv',\n",
    "       'Geo_West - IRI Standard - Multi Outlet + Conv',]], drop_first=True)\n",
    "\n",
    "# Create response variable\n",
    "y = Dummy_upd_Top3['price_buckets']\n",
    "\n",
    "# Fit multinomial logit model\n",
    "model = sm.MNLogit(y, sm.add_constant(X)).fit(maxiter=75)\n",
    "\n",
    "# Print model summary\n",
    "print(model.summary())"
   ]
  },
  {
   "cell_type": "markdown",
   "metadata": {},
   "source": [
    "# Question 4 Regression"
   ]
  },
  {
   "cell_type": "code",
   "execution_count": 342,
   "metadata": {},
   "outputs": [],
   "source": [
    "df = pd.read_csv(r'C:\\Users\\tpiku\\Downloads\\data.csv')\n",
    "\n",
    "df = df.rename(columns={'covid segre': 'covid_segree'})\n",
    "df = df.rename(columns={'Total Dollar Sales': 'Total_Dollar_Sales'})\n",
    "df = df.rename(columns={'Major Brands': 'Major_Brands'})\n",
    "\n",
    "df['covid_segree'] = df['covid_segree'].replace({'pre covid': 0, 'post covid': 1})"
   ]
  },
  {
   "cell_type": "code",
   "execution_count": 338,
   "metadata": {},
   "outputs": [],
   "source": [
    "df['Geo_upd'] = np.select([df['Geography'] =='Northeast - IRI Standard - Multi Outlet + Conv', \n",
    "                           df['Geography'] == 'Southeast - IRI Standard - Multi Outlet + Conv', \n",
    "                           df['Geography'] == 'California - IRI Standard - Multi Outlet + Conv',\n",
    "                           df['Geography'] == 'Great Lakes - IRI Standard - Multi Outlet + Conv',\n",
    "                           df['Geography'] == 'Mid-South - IRI Standard - Multi Outlet + Conv',\n",
    "                           df['Geography'] == 'Plains - IRI Standard - Multi Outlet + Conv',\n",
    "                           df['Geography'] == 'South Central - IRI Standard - Multi Outlet + Conv',\n",
    "                           df['Geography'] == 'West - IRI Standard - Multi Outlet + Conv'], \n",
    "                          [0, 1, 2, 3, 4, 5, 6, 7], default=8)\n",
    "\n",
    "\n",
    "df['Geo_upd'] = df['Geo_upd'].astype('category')\n",
    "df['Geo_upd'] = df['Geo_upd'].cat.rename_categories(['Northeast', 'Southeast', 'California', 'Great lakes', 'Mid-South', 'Plains', 'South Central', 'West'])\n",
    "\n",
    "\n",
    "\n",
    "df['Major_Brands_upd'] = np.select([df['Major_Brands'] == 'BLUE BONNET', \n",
    "                                   df['Major_Brands'] == 'EARTH BALANCE', \n",
    "                                   df['Major_Brands'] == 'SMART BALANCE',\n",
    "                                   df['Major_Brands'] == 'PARKAY',\n",
    "                                   df['Major_Brands'] == 'PRIVATE LABEL',\n",
    "                                   df['Major_Brands'] == 'LAND O LAKES'],\n",
    "                                  \n",
    "                                  [0, 1, 2, 3, 4, 5], \n",
    "                                  default=6)\n",
    "\n",
    "df['Major_Brands_upd'] = df['Major_Brands_upd'].astype('category')\n",
    "df['Major_Brands_upd'] = df['Major_Brands_upd'].cat.rename_categories(['BLUE BONNET', 'EARTH BALANCE', 'SMART BALANCE', 'PARKAY', 'PRIVATE LABEL', 'LAND O LAKES', 'OTHER'])\n"
   ]
  },
  {
   "cell_type": "code",
   "execution_count": 339,
   "metadata": {},
   "outputs": [],
   "source": [
    "dummy_vars1 = pd.get_dummies(df['Major_Brands_upd'], prefix = 'Brand')\n",
    "dummy_vars4 = pd.get_dummies(df['Geography'], prefix = 'Geo')\n",
    "dummy_vars4 = pd.get_dummies(df['Geography'], prefix = 'Geo')\n",
    "df = pd.concat([df, dummy_vars1, dummy_vars4], axis=1)"
   ]
  },
  {
   "cell_type": "code",
   "execution_count": 340,
   "metadata": {},
   "outputs": [
    {
     "name": "stdout",
     "output_type": "stream",
     "text": [
      "Optimization terminated successfully.\n",
      "         Current function value: 1.204164\n",
      "         Iterations 8\n",
      "                          MNLogit Regression Results                          \n",
      "==============================================================================\n",
      "Dep. Variable:       Major_Brands_upd   No. Observations:              1002565\n",
      "Model:                        MNLogit   Df Residuals:                  1002511\n",
      "Method:                           MLE   Df Model:                           48\n",
      "Date:                Tue, 09 May 2023   Pseudo R-squ.:                0.008269\n",
      "Time:                        19:27:42   Log-Likelihood:            -1.2073e+06\n",
      "converged:                       True   LL-Null:                   -1.2173e+06\n",
      "Covariance Type:            nonrobust   LLR p-value:                     0.000\n",
      "========================================================================================================================\n",
      "                      Major_Brands_upd=EARTH BALANCE       coef    std err          z      P>|z|      [0.025      0.975]\n",
      "------------------------------------------------------------------------------------------------------------------------\n",
      "const                                                   -0.2495      0.032     -7.721      0.000      -0.313      -0.186\n",
      "covid_segree                                             0.2573      0.020     12.613      0.000       0.217       0.297\n",
      "Geo_California - IRI Standard - Multi Outlet + Conv      0.6593      0.042     15.518      0.000       0.576       0.743\n",
      "Geo_Great Lakes - IRI Standard - Multi Outlet + Conv     0.4509      0.040     11.220      0.000       0.372       0.530\n",
      "Geo_Mid-South - IRI Standard - Multi Outlet + Conv       0.4294      0.040     10.718      0.000       0.351       0.508\n",
      "Geo_Northeast - IRI Standard - Multi Outlet + Conv       0.5389      0.040     13.510      0.000       0.461       0.617\n",
      "Geo_Plains - IRI Standard - Multi Outlet + Conv          0.3175      0.042      7.643      0.000       0.236       0.399\n",
      "Geo_Southeast - IRI Standard - Multi Outlet + Conv       0.2638      0.041      6.491      0.000       0.184       0.343\n",
      "Geo_West - IRI Standard - Multi Outlet + Conv            0.4142      0.042      9.969      0.000       0.333       0.496\n",
      "------------------------------------------------------------------------------------------------------------------------\n",
      "                      Major_Brands_upd=SMART BALANCE       coef    std err          z      P>|z|      [0.025      0.975]\n",
      "------------------------------------------------------------------------------------------------------------------------\n",
      "const                                                    0.3461      0.030     11.669      0.000       0.288       0.404\n",
      "covid_segree                                            -0.2025      0.019    -10.502      0.000      -0.240      -0.165\n",
      "Geo_California - IRI Standard - Multi Outlet + Conv      0.1174      0.042      2.799      0.005       0.035       0.200\n",
      "Geo_Great Lakes - IRI Standard - Multi Outlet + Conv     0.3886      0.038     10.318      0.000       0.315       0.462\n",
      "Geo_Mid-South - IRI Standard - Multi Outlet + Conv       0.3335      0.038      8.860      0.000       0.260       0.407\n",
      "Geo_Northeast - IRI Standard - Multi Outlet + Conv       0.4335      0.038     11.548      0.000       0.360       0.507\n",
      "Geo_Plains - IRI Standard - Multi Outlet + Conv          0.1592      0.039      4.055      0.000       0.082       0.236\n",
      "Geo_Southeast - IRI Standard - Multi Outlet + Conv       0.3279      0.038      8.727      0.000       0.254       0.402\n",
      "Geo_West - IRI Standard - Multi Outlet + Conv            0.1787      0.040      4.512      0.000       0.101       0.256\n",
      "------------------------------------------------------------------------------------------------------------------------\n",
      "                             Major_Brands_upd=PARKAY       coef    std err          z      P>|z|      [0.025      0.975]\n",
      "------------------------------------------------------------------------------------------------------------------------\n",
      "const                                                   -0.3260      0.035     -9.335      0.000      -0.394      -0.258\n",
      "covid_segree                                            -0.0644      0.024     -2.718      0.007      -0.111      -0.018\n",
      "Geo_California - IRI Standard - Multi Outlet + Conv     -0.4420      0.054     -8.164      0.000      -0.548      -0.336\n",
      "Geo_Great Lakes - IRI Standard - Multi Outlet + Conv    -0.0471      0.046     -1.026      0.305      -0.137       0.043\n",
      "Geo_Mid-South - IRI Standard - Multi Outlet + Conv      -0.0624      0.046     -1.363      0.173      -0.152       0.027\n",
      "Geo_Northeast - IRI Standard - Multi Outlet + Conv       0.1942      0.044      4.376      0.000       0.107       0.281\n",
      "Geo_Plains - IRI Standard - Multi Outlet + Conv          0.0705      0.046      1.529      0.126      -0.020       0.161\n",
      "Geo_Southeast - IRI Standard - Multi Outlet + Conv       0.1047      0.045      2.349      0.019       0.017       0.192\n",
      "Geo_West - IRI Standard - Multi Outlet + Conv            0.0509      0.047      1.089      0.276      -0.041       0.142\n",
      "------------------------------------------------------------------------------------------------------------------------\n",
      "                      Major_Brands_upd=PRIVATE LABEL       coef    std err          z      P>|z|      [0.025      0.975]\n",
      "------------------------------------------------------------------------------------------------------------------------\n",
      "const                                                    2.5122      0.023    107.832      0.000       2.467       2.558\n",
      "covid_segree                                             0.0015      0.016      0.098      0.922      -0.029       0.032\n",
      "Geo_California - IRI Standard - Multi Outlet + Conv     -0.0741      0.033     -2.240      0.025      -0.139      -0.009\n",
      "Geo_Great Lakes - IRI Standard - Multi Outlet + Conv     0.3670      0.030     12.163      0.000       0.308       0.426\n",
      "Geo_Mid-South - IRI Standard - Multi Outlet + Conv       0.7087      0.030     23.705      0.000       0.650       0.767\n",
      "Geo_Northeast - IRI Standard - Multi Outlet + Conv       0.7057      0.030     23.468      0.000       0.647       0.765\n",
      "Geo_Plains - IRI Standard - Multi Outlet + Conv          0.1601      0.031      5.178      0.000       0.100       0.221\n",
      "Geo_Southeast - IRI Standard - Multi Outlet + Conv       0.2604      0.030      8.683      0.000       0.202       0.319\n",
      "Geo_West - IRI Standard - Multi Outlet + Conv            0.1087      0.031      3.472      0.001       0.047       0.170\n",
      "------------------------------------------------------------------------------------------------------------------------\n",
      "                       Major_Brands_upd=LAND O LAKES       coef    std err          z      P>|z|      [0.025      0.975]\n",
      "------------------------------------------------------------------------------------------------------------------------\n",
      "const                                                    1.3767      0.025     54.908      0.000       1.328       1.426\n",
      "covid_segree                                            -0.0002      0.017     -0.013      0.990      -0.033       0.033\n",
      "Geo_California - IRI Standard - Multi Outlet + Conv      0.2728      0.035      7.782      0.000       0.204       0.342\n",
      "Geo_Great Lakes - IRI Standard - Multi Outlet + Conv     0.1205      0.032      3.710      0.000       0.057       0.184\n",
      "Geo_Mid-South - IRI Standard - Multi Outlet + Conv       0.1076      0.032      3.330      0.001       0.044       0.171\n",
      "Geo_Northeast - IRI Standard - Multi Outlet + Conv       0.1545      0.032      4.762      0.000       0.091       0.218\n",
      "Geo_Plains - IRI Standard - Multi Outlet + Conv          0.0777      0.033      2.338      0.019       0.013       0.143\n",
      "Geo_Southeast - IRI Standard - Multi Outlet + Conv       0.0755      0.032      2.338      0.019       0.012       0.139\n",
      "Geo_West - IRI Standard - Multi Outlet + Conv            0.1283      0.034      3.824      0.000       0.063       0.194\n",
      "------------------------------------------------------------------------------------------------------------------------\n",
      "                              Major_Brands_upd=OTHER       coef    std err          z      P>|z|      [0.025      0.975]\n",
      "------------------------------------------------------------------------------------------------------------------------\n",
      "const                                                    3.0673      0.023    133.773      0.000       3.022       3.112\n",
      "covid_segree                                             0.0475      0.016      3.061      0.002       0.017       0.078\n",
      "Geo_California - IRI Standard - Multi Outlet + Conv      0.4343      0.032     13.427      0.000       0.371       0.498\n",
      "Geo_Great Lakes - IRI Standard - Multi Outlet + Conv     0.4728      0.030     15.910      0.000       0.415       0.531\n",
      "Geo_Mid-South - IRI Standard - Multi Outlet + Conv       0.1601      0.030      5.401      0.000       0.102       0.218\n",
      "Geo_Northeast - IRI Standard - Multi Outlet + Conv       0.6395      0.030     21.529      0.000       0.581       0.698\n",
      "Geo_Plains - IRI Standard - Multi Outlet + Conv          0.2794      0.030      9.187      0.000       0.220       0.339\n",
      "Geo_Southeast - IRI Standard - Multi Outlet + Conv       0.0752      0.030      2.541      0.011       0.017       0.133\n",
      "Geo_West - IRI Standard - Multi Outlet + Conv            0.3220      0.031     10.472      0.000       0.262       0.382\n",
      "========================================================================================================================\n"
     ]
    }
   ],
   "source": [
    "import statsmodels.api as sm\n",
    "# Create design matrix\n",
    "X = pd.get_dummies(df[[ 'covid_segree','Geo_California - IRI Standard - Multi Outlet + Conv',\n",
    "       'Geo_Great Lakes - IRI Standard - Multi Outlet + Conv',\n",
    "       'Geo_Mid-South - IRI Standard - Multi Outlet + Conv',\n",
    "       'Geo_Northeast - IRI Standard - Multi Outlet + Conv',\n",
    "       'Geo_Plains - IRI Standard - Multi Outlet + Conv',\n",
    "       'Geo_Southeast - IRI Standard - Multi Outlet + Conv',\n",
    "       'Geo_West - IRI Standard - Multi Outlet + Conv',]], drop_first=True)\n",
    "\n",
    "# Create response variable\n",
    "y = df['Major_Brands_upd']\n",
    "\n",
    "# Fit multinomial logit model\n",
    "model = sm.MNLogit(y, sm.add_constant(X)).fit(maxiter=75)\n",
    "\n",
    "# Print model summary\n",
    "print(model.summary())"
   ]
  },
  {
   "cell_type": "markdown",
   "metadata": {},
   "source": [
    "# Test IIA"
   ]
  },
  {
   "cell_type": "code",
   "execution_count": 19,
   "metadata": {
    "scrolled": true
   },
   "outputs": [
    {
     "name": "stdout",
     "output_type": "stream",
     "text": [
      "Optimization terminated successfully    (Exit mode 0)\n",
      "            Current function value: 1.029887369260308\n",
      "            Iterations: 146\n",
      "            Function evaluations: 147\n",
      "            Gradient evaluations: 146\n"
     ]
    },
    {
     "name": "stderr",
     "output_type": "stream",
     "text": [
      "C:\\Users\\tpiku\\anaconda3\\lib\\site-packages\\statsmodels\\base\\l1_solvers_common.py:71: ConvergenceWarning: QC check did not pass for 15 out of 26 parameters\n",
      "Try increasing solver accuracy or number of iterations, decreasing alpha, or switch solvers\n",
      "  warnings.warn(message, ConvergenceWarning)\n",
      "C:\\Users\\tpiku\\anaconda3\\lib\\site-packages\\statsmodels\\base\\l1_solvers_common.py:144: ConvergenceWarning: Could not trim params automatically due to failed QC check. Trimming using trim_mode == 'size' will still work.\n",
      "  warnings.warn(msg, ConvergenceWarning)\n"
     ]
    }
   ],
   "source": [
    "# Test IIA\n",
    "model_niia = sm.MNLogit(y, X).fit_regularized(method='l1', alpha=0.5)"
   ]
  },
  {
   "cell_type": "code",
   "execution_count": 40,
   "metadata": {
    "scrolled": true
   },
   "outputs": [
    {
     "name": "stdout",
     "output_type": "stream",
     "text": [
      "Optimization terminated successfully.\n",
      "         Current function value: 1.028396\n",
      "         Iterations 7\n",
      "Optimization terminated successfully.\n",
      "         Current function value: 1.098348\n",
      "         Iterations 4\n",
      "McFadden R-squared = 0.0636877560836927\n",
      "Likelihood ratio test statistic = 98183.07592503447\n",
      "p-value of the test statistic = 0.0\n"
     ]
    }
   ],
   "source": [
    "import numpy as np \n",
    "import pandas as pd \n",
    "import statsmodels.api as sm \n",
    "from statsmodels.discrete.discrete_model import MNLogit \n",
    "from scipy import stats\n",
    "\n",
    "# Fit the multinomial logit model\n",
    "model_fit = MNLogit(y, sm.add_constant(X)).fit()\n",
    "\n",
    "# Calculate McFadden R-squared\n",
    "r2_mcfadden = model_fit.prsquared\n",
    "\n",
    "# Fit the null model\n",
    "null_fit = MNLogit(y, np.ones((len(y), 1))).fit()\n",
    "\n",
    "# Calculate the likelihood ratio test statistic\n",
    "test_stat = 2 * (model_fit.llf - null_fit.llf)\n",
    "# Calculate the p-value of the test statistic\n",
    "p_value = 1 - stats.chi2.cdf(test_stat, df=model_fit.df_model-null_fit.df_model)\n",
    "\n",
    "# Print the results\n",
    "print('McFadden R-squared =', r2_mcfadden)\n",
    "print('Likelihood ratio test statistic =', test_stat)\n",
    "print('p-value of the test statistic =', p_value)\n"
   ]
  },
  {
   "cell_type": "markdown",
   "metadata": {},
   "source": [
    "# Additional Charts"
   ]
  },
  {
   "cell_type": "code",
   "execution_count": 46,
   "metadata": {
    "scrolled": true
   },
   "outputs": [
    {
     "data": {
      "text/html": [
       "<div>\n",
       "<style scoped>\n",
       "    .dataframe tbody tr th:only-of-type {\n",
       "        vertical-align: middle;\n",
       "    }\n",
       "\n",
       "    .dataframe tbody tr th {\n",
       "        vertical-align: top;\n",
       "    }\n",
       "\n",
       "    .dataframe thead th {\n",
       "        text-align: right;\n",
       "    }\n",
       "</style>\n",
       "<table border=\"1\" class=\"dataframe\">\n",
       "  <thead>\n",
       "    <tr style=\"text-align: right;\">\n",
       "      <th></th>\n",
       "      <th>Geography</th>\n",
       "      <th>Time</th>\n",
       "      <th>Product Description</th>\n",
       "      <th>UPC 13 digit</th>\n",
       "      <th>Dollar Sales No Merch</th>\n",
       "      <th>Dollar Sales Any Merch</th>\n",
       "      <th>Unit Sales No Merch</th>\n",
       "      <th>Unit Sales Any Merch</th>\n",
       "      <th>Volume Sales No Merch</th>\n",
       "      <th>Volume Sales Any Merch</th>\n",
       "      <th>...</th>\n",
       "      <th>Sub-Category Name</th>\n",
       "      <th>CAG Category Value</th>\n",
       "      <th>CAG Count Value</th>\n",
       "      <th>CAG Ounces Value</th>\n",
       "      <th>CAG Form Value</th>\n",
       "      <th>Form</th>\n",
       "      <th>CAG Tier Value</th>\n",
       "      <th>Total Unit Sales</th>\n",
       "      <th>Total Volume Sales</th>\n",
       "      <th>Total Dollar Sales</th>\n",
       "    </tr>\n",
       "  </thead>\n",
       "  <tbody>\n",
       "    <tr>\n",
       "      <th>0</th>\n",
       "      <td>California - IRI Standard - Multi Outlet + Conv</td>\n",
       "      <td>Week Ending 04-10-22</td>\n",
       "      <td>BLUE BONNET RFG VEGETABLE OIL SPREAD BOX SPREA...</td>\n",
       "      <td>29000008222</td>\n",
       "      <td>18544.809193</td>\n",
       "      <td>2550.785696</td>\n",
       "      <td>14935.242697</td>\n",
       "      <td>2115.501280</td>\n",
       "      <td>14935.242697</td>\n",
       "      <td>2115.501280</td>\n",
       "      <td>...</td>\n",
       "      <td>MARGARINE/SPREADS</td>\n",
       "      <td>TABLESPREADS</td>\n",
       "      <td>1 CT</td>\n",
       "      <td>16 OZ</td>\n",
       "      <td>ALL OTHER FORM</td>\n",
       "      <td>SPREAD</td>\n",
       "      <td>VALUE</td>\n",
       "      <td>17050.743977</td>\n",
       "      <td>17050.743977</td>\n",
       "      <td>21095.594889</td>\n",
       "    </tr>\n",
       "    <tr>\n",
       "      <th>1</th>\n",
       "      <td>California - IRI Standard - Multi Outlet + Conv</td>\n",
       "      <td>Week Ending 04-10-22</td>\n",
       "      <td>BLUE BONNET RFG VEGETABLE OIL SPREAD PLASTIC T...</td>\n",
       "      <td>27000009002</td>\n",
       "      <td>5210.870193</td>\n",
       "      <td>3613.703015</td>\n",
       "      <td>2506.085582</td>\n",
       "      <td>1886.631799</td>\n",
       "      <td>2349.455234</td>\n",
       "      <td>1768.717312</td>\n",
       "      <td>...</td>\n",
       "      <td>MARGARINE/SPREADS</td>\n",
       "      <td>TABLESPREADS</td>\n",
       "      <td>1 CT</td>\n",
       "      <td>15 OZ</td>\n",
       "      <td>TUBS</td>\n",
       "      <td>SPREAD</td>\n",
       "      <td>VALUE</td>\n",
       "      <td>4392.717381</td>\n",
       "      <td>4118.172545</td>\n",
       "      <td>8824.573208</td>\n",
       "    </tr>\n",
       "    <tr>\n",
       "      <th>2</th>\n",
       "      <td>California - IRI Standard - Multi Outlet + Conv</td>\n",
       "      <td>Week Ending 04-10-22</td>\n",
       "      <td>BLUE BONNET RFG VEGETABLE OIL SPREAD PLASTIC T...</td>\n",
       "      <td>27000009301</td>\n",
       "      <td>40.781195</td>\n",
       "      <td>NaN</td>\n",
       "      <td>17.808382</td>\n",
       "      <td>NaN</td>\n",
       "      <td>16.695358</td>\n",
       "      <td>NaN</td>\n",
       "      <td>...</td>\n",
       "      <td>MARGARINE/SPREADS</td>\n",
       "      <td>TABLESPREADS</td>\n",
       "      <td>1 CT</td>\n",
       "      <td>15 OZ</td>\n",
       "      <td>TUBS</td>\n",
       "      <td>SPREAD</td>\n",
       "      <td>VALUE</td>\n",
       "      <td>NaN</td>\n",
       "      <td>NaN</td>\n",
       "      <td>NaN</td>\n",
       "    </tr>\n",
       "    <tr>\n",
       "      <th>3</th>\n",
       "      <td>California - IRI Standard - Multi Outlet + Conv</td>\n",
       "      <td>Week Ending 04-10-22</td>\n",
       "      <td>BLUE BONNET RFG VEGETABLE OIL SPREAD PLASTIC T...</td>\n",
       "      <td>27000009331</td>\n",
       "      <td>4835.803471</td>\n",
       "      <td>127.760542</td>\n",
       "      <td>1230.147865</td>\n",
       "      <td>37.084390</td>\n",
       "      <td>3459.790871</td>\n",
       "      <td>104.299847</td>\n",
       "      <td>...</td>\n",
       "      <td>MARGARINE/SPREADS</td>\n",
       "      <td>TABLESPREADS</td>\n",
       "      <td>1 CT</td>\n",
       "      <td>45 OZ</td>\n",
       "      <td>TUBS</td>\n",
       "      <td>SPREAD</td>\n",
       "      <td>VALUE</td>\n",
       "      <td>1267.232255</td>\n",
       "      <td>3564.090718</td>\n",
       "      <td>4963.564013</td>\n",
       "    </tr>\n",
       "    <tr>\n",
       "      <th>4</th>\n",
       "      <td>California - IRI Standard - Multi Outlet + Conv</td>\n",
       "      <td>Week Ending 04-10-22</td>\n",
       "      <td>EARTH BALANCE RFG BUTTERY VEGETABLE OIL SPREAD...</td>\n",
       "      <td>33776011671</td>\n",
       "      <td>1937.988078</td>\n",
       "      <td>178.429544</td>\n",
       "      <td>296.106549</td>\n",
       "      <td>33.639918</td>\n",
       "      <td>296.106549</td>\n",
       "      <td>33.639918</td>\n",
       "      <td>...</td>\n",
       "      <td>MARGARINE/SPREADS</td>\n",
       "      <td>TABLESPREADS</td>\n",
       "      <td>4 CT</td>\n",
       "      <td>16 OZ</td>\n",
       "      <td>STICKS</td>\n",
       "      <td>STICK</td>\n",
       "      <td>PREMIUM</td>\n",
       "      <td>329.746467</td>\n",
       "      <td>329.746467</td>\n",
       "      <td>2116.417622</td>\n",
       "    </tr>\n",
       "    <tr>\n",
       "      <th>...</th>\n",
       "      <td>...</td>\n",
       "      <td>...</td>\n",
       "      <td>...</td>\n",
       "      <td>...</td>\n",
       "      <td>...</td>\n",
       "      <td>...</td>\n",
       "      <td>...</td>\n",
       "      <td>...</td>\n",
       "      <td>...</td>\n",
       "      <td>...</td>\n",
       "      <td>...</td>\n",
       "      <td>...</td>\n",
       "      <td>...</td>\n",
       "      <td>...</td>\n",
       "      <td>...</td>\n",
       "      <td>...</td>\n",
       "      <td>...</td>\n",
       "      <td>...</td>\n",
       "      <td>...</td>\n",
       "      <td>...</td>\n",
       "      <td>...</td>\n",
       "    </tr>\n",
       "    <tr>\n",
       "      <th>1002560</th>\n",
       "      <td>West - IRI Standard - Multi Outlet + Conv</td>\n",
       "      <td>Week Ending 01-06-19</td>\n",
       "      <td>VITAL FARMS RFG BUTTER INDIVDL WRAP IN BOX STI...</td>\n",
       "      <td>861745000081</td>\n",
       "      <td>1888.302707</td>\n",
       "      <td>NaN</td>\n",
       "      <td>453.339601</td>\n",
       "      <td>NaN</td>\n",
       "      <td>226.669801</td>\n",
       "      <td>NaN</td>\n",
       "      <td>...</td>\n",
       "      <td>RFG BUTTER</td>\n",
       "      <td>TABLESPREADS</td>\n",
       "      <td>2 CT</td>\n",
       "      <td>8 OZ</td>\n",
       "      <td>STICKS</td>\n",
       "      <td>STICK</td>\n",
       "      <td>SUPER PREMIUM</td>\n",
       "      <td>NaN</td>\n",
       "      <td>NaN</td>\n",
       "      <td>NaN</td>\n",
       "    </tr>\n",
       "    <tr>\n",
       "      <th>1002561</th>\n",
       "      <td>West - IRI Standard - Multi Outlet + Conv</td>\n",
       "      <td>Week Ending 01-06-19</td>\n",
       "      <td>WAYFARE RFG VEGETABLE OIL SPREAD PLASTIC TUB S...</td>\n",
       "      <td>845681000651</td>\n",
       "      <td>435.468028</td>\n",
       "      <td>NaN</td>\n",
       "      <td>125.234472</td>\n",
       "      <td>NaN</td>\n",
       "      <td>109.580163</td>\n",
       "      <td>NaN</td>\n",
       "      <td>...</td>\n",
       "      <td>MARGARINE/SPREADS</td>\n",
       "      <td>TABLESPREADS</td>\n",
       "      <td>1 CT</td>\n",
       "      <td>14 OZ</td>\n",
       "      <td>TUBS</td>\n",
       "      <td>SPREAD</td>\n",
       "      <td>SUPER PREMIUM</td>\n",
       "      <td>NaN</td>\n",
       "      <td>NaN</td>\n",
       "      <td>NaN</td>\n",
       "    </tr>\n",
       "    <tr>\n",
       "      <th>1002562</th>\n",
       "      <td>West - IRI Standard - Multi Outlet + Conv</td>\n",
       "      <td>Week Ending 01-06-19</td>\n",
       "      <td>COUNTRY CREAM RFG BUTTER BOX QUARTER 16 OZ - 0...</td>\n",
       "      <td>54231100073</td>\n",
       "      <td>49.979564</td>\n",
       "      <td>NaN</td>\n",
       "      <td>10.015945</td>\n",
       "      <td>NaN</td>\n",
       "      <td>10.015945</td>\n",
       "      <td>NaN</td>\n",
       "      <td>...</td>\n",
       "      <td>RFG BUTTER</td>\n",
       "      <td>TABLESPREADS</td>\n",
       "      <td>4 CT</td>\n",
       "      <td>16 OZ</td>\n",
       "      <td>STICKS</td>\n",
       "      <td>QUARTER</td>\n",
       "      <td>MAINSTREAM</td>\n",
       "      <td>NaN</td>\n",
       "      <td>NaN</td>\n",
       "      <td>NaN</td>\n",
       "    </tr>\n",
       "    <tr>\n",
       "      <th>1002563</th>\n",
       "      <td>West - IRI Standard - Multi Outlet + Conv</td>\n",
       "      <td>Week Ending 01-06-19</td>\n",
       "      <td>TABLE MAID RFG VEGETABLE OIL SPREAD BOX QUARTE...</td>\n",
       "      <td>26700161221</td>\n",
       "      <td>516.000000</td>\n",
       "      <td>NaN</td>\n",
       "      <td>400.000000</td>\n",
       "      <td>NaN</td>\n",
       "      <td>400.000000</td>\n",
       "      <td>NaN</td>\n",
       "      <td>...</td>\n",
       "      <td>MARGARINE/SPREADS</td>\n",
       "      <td>TABLESPREADS</td>\n",
       "      <td>4 CT</td>\n",
       "      <td>16 OZ</td>\n",
       "      <td>STICKS</td>\n",
       "      <td>QUARTER</td>\n",
       "      <td>VALUE</td>\n",
       "      <td>NaN</td>\n",
       "      <td>NaN</td>\n",
       "      <td>NaN</td>\n",
       "    </tr>\n",
       "    <tr>\n",
       "      <th>1002564</th>\n",
       "      <td>West - IRI Standard - Multi Outlet + Conv</td>\n",
       "      <td>Week Ending 01-06-19</td>\n",
       "      <td>TABLE MAID RFG VEGETABLE OIL SPREAD PLASTIC TU...</td>\n",
       "      <td>26700159071</td>\n",
       "      <td>860.800000</td>\n",
       "      <td>NaN</td>\n",
       "      <td>320.000000</td>\n",
       "      <td>NaN</td>\n",
       "      <td>600.000000</td>\n",
       "      <td>NaN</td>\n",
       "      <td>...</td>\n",
       "      <td>MARGARINE/SPREADS</td>\n",
       "      <td>TABLESPREADS</td>\n",
       "      <td>1 CT</td>\n",
       "      <td>30 OZ</td>\n",
       "      <td>TUBS</td>\n",
       "      <td>SPREAD</td>\n",
       "      <td>VALUE</td>\n",
       "      <td>NaN</td>\n",
       "      <td>NaN</td>\n",
       "      <td>NaN</td>\n",
       "    </tr>\n",
       "  </tbody>\n",
       "</table>\n",
       "<p>1002565 rows × 38 columns</p>\n",
       "</div>"
      ],
      "text/plain": [
       "                                               Geography  \\\n",
       "0        California - IRI Standard - Multi Outlet + Conv   \n",
       "1        California - IRI Standard - Multi Outlet + Conv   \n",
       "2        California - IRI Standard - Multi Outlet + Conv   \n",
       "3        California - IRI Standard - Multi Outlet + Conv   \n",
       "4        California - IRI Standard - Multi Outlet + Conv   \n",
       "...                                                  ...   \n",
       "1002560        West - IRI Standard - Multi Outlet + Conv   \n",
       "1002561        West - IRI Standard - Multi Outlet + Conv   \n",
       "1002562        West - IRI Standard - Multi Outlet + Conv   \n",
       "1002563        West - IRI Standard - Multi Outlet + Conv   \n",
       "1002564        West - IRI Standard - Multi Outlet + Conv   \n",
       "\n",
       "                         Time  \\\n",
       "0        Week Ending 04-10-22   \n",
       "1        Week Ending 04-10-22   \n",
       "2        Week Ending 04-10-22   \n",
       "3        Week Ending 04-10-22   \n",
       "4        Week Ending 04-10-22   \n",
       "...                       ...   \n",
       "1002560  Week Ending 01-06-19   \n",
       "1002561  Week Ending 01-06-19   \n",
       "1002562  Week Ending 01-06-19   \n",
       "1002563  Week Ending 01-06-19   \n",
       "1002564  Week Ending 01-06-19   \n",
       "\n",
       "                                       Product Description  UPC 13 digit  \\\n",
       "0        BLUE BONNET RFG VEGETABLE OIL SPREAD BOX SPREA...   29000008222   \n",
       "1        BLUE BONNET RFG VEGETABLE OIL SPREAD PLASTIC T...   27000009002   \n",
       "2        BLUE BONNET RFG VEGETABLE OIL SPREAD PLASTIC T...   27000009301   \n",
       "3        BLUE BONNET RFG VEGETABLE OIL SPREAD PLASTIC T...   27000009331   \n",
       "4        EARTH BALANCE RFG BUTTERY VEGETABLE OIL SPREAD...   33776011671   \n",
       "...                                                    ...           ...   \n",
       "1002560  VITAL FARMS RFG BUTTER INDIVDL WRAP IN BOX STI...  861745000081   \n",
       "1002561  WAYFARE RFG VEGETABLE OIL SPREAD PLASTIC TUB S...  845681000651   \n",
       "1002562  COUNTRY CREAM RFG BUTTER BOX QUARTER 16 OZ - 0...   54231100073   \n",
       "1002563  TABLE MAID RFG VEGETABLE OIL SPREAD BOX QUARTE...   26700161221   \n",
       "1002564  TABLE MAID RFG VEGETABLE OIL SPREAD PLASTIC TU...   26700159071   \n",
       "\n",
       "         Dollar Sales No Merch  Dollar Sales Any Merch  Unit Sales No Merch  \\\n",
       "0                 18544.809193             2550.785696         14935.242697   \n",
       "1                  5210.870193             3613.703015          2506.085582   \n",
       "2                    40.781195                     NaN            17.808382   \n",
       "3                  4835.803471              127.760542          1230.147865   \n",
       "4                  1937.988078              178.429544           296.106549   \n",
       "...                        ...                     ...                  ...   \n",
       "1002560            1888.302707                     NaN           453.339601   \n",
       "1002561             435.468028                     NaN           125.234472   \n",
       "1002562              49.979564                     NaN            10.015945   \n",
       "1002563             516.000000                     NaN           400.000000   \n",
       "1002564             860.800000                     NaN           320.000000   \n",
       "\n",
       "         Unit Sales Any Merch  Volume Sales No Merch  Volume Sales Any Merch  \\\n",
       "0                 2115.501280           14935.242697             2115.501280   \n",
       "1                 1886.631799            2349.455234             1768.717312   \n",
       "2                         NaN              16.695358                     NaN   \n",
       "3                   37.084390            3459.790871              104.299847   \n",
       "4                   33.639918             296.106549               33.639918   \n",
       "...                       ...                    ...                     ...   \n",
       "1002560                   NaN             226.669801                     NaN   \n",
       "1002561                   NaN             109.580163                     NaN   \n",
       "1002562                   NaN              10.015945                     NaN   \n",
       "1002563                   NaN             400.000000                     NaN   \n",
       "1002564                   NaN             600.000000                     NaN   \n",
       "\n",
       "         ...  Sub-Category Name  CAG Category Value  CAG Count Value  \\\n",
       "0        ...  MARGARINE/SPREADS        TABLESPREADS             1 CT   \n",
       "1        ...  MARGARINE/SPREADS        TABLESPREADS             1 CT   \n",
       "2        ...  MARGARINE/SPREADS        TABLESPREADS             1 CT   \n",
       "3        ...  MARGARINE/SPREADS        TABLESPREADS             1 CT   \n",
       "4        ...  MARGARINE/SPREADS        TABLESPREADS             4 CT   \n",
       "...      ...                ...                 ...              ...   \n",
       "1002560  ...         RFG BUTTER        TABLESPREADS             2 CT   \n",
       "1002561  ...  MARGARINE/SPREADS        TABLESPREADS             1 CT   \n",
       "1002562  ...         RFG BUTTER        TABLESPREADS             4 CT   \n",
       "1002563  ...  MARGARINE/SPREADS        TABLESPREADS             4 CT   \n",
       "1002564  ...  MARGARINE/SPREADS        TABLESPREADS             1 CT   \n",
       "\n",
       "         CAG Ounces Value  CAG Form Value     Form  CAG Tier Value  \\\n",
       "0                   16 OZ  ALL OTHER FORM   SPREAD           VALUE   \n",
       "1                   15 OZ            TUBS   SPREAD           VALUE   \n",
       "2                   15 OZ            TUBS   SPREAD           VALUE   \n",
       "3                   45 OZ            TUBS   SPREAD           VALUE   \n",
       "4                   16 OZ          STICKS    STICK         PREMIUM   \n",
       "...                   ...             ...      ...             ...   \n",
       "1002560              8 OZ          STICKS    STICK   SUPER PREMIUM   \n",
       "1002561             14 OZ            TUBS   SPREAD   SUPER PREMIUM   \n",
       "1002562             16 OZ          STICKS  QUARTER      MAINSTREAM   \n",
       "1002563             16 OZ          STICKS  QUARTER           VALUE   \n",
       "1002564             30 OZ            TUBS   SPREAD           VALUE   \n",
       "\n",
       "         Total Unit Sales  Total Volume Sales  Total Dollar Sales  \n",
       "0            17050.743977        17050.743977        21095.594889  \n",
       "1             4392.717381         4118.172545         8824.573208  \n",
       "2                     NaN                 NaN                 NaN  \n",
       "3             1267.232255         3564.090718         4963.564013  \n",
       "4              329.746467          329.746467         2116.417622  \n",
       "...                   ...                 ...                 ...  \n",
       "1002560               NaN                 NaN                 NaN  \n",
       "1002561               NaN                 NaN                 NaN  \n",
       "1002562               NaN                 NaN                 NaN  \n",
       "1002563               NaN                 NaN                 NaN  \n",
       "1002564               NaN                 NaN                 NaN  \n",
       "\n",
       "[1002565 rows x 38 columns]"
      ]
     },
     "execution_count": 46,
     "metadata": {},
     "output_type": "execute_result"
    }
   ],
   "source": [
    "Dummydata3=pd.read_csv(r\"C:\\Users\\tpiku\\Downloads\\Final_Table.csv\")\n",
    "Dummydata3"
   ]
  },
  {
   "cell_type": "code",
   "execution_count": 306,
   "metadata": {
    "scrolled": false
   },
   "outputs": [
    {
     "data": {
      "image/png": "[encoded data removed]",
      "text/plain": [
       "<Figure size 1000x500 with 1 Axes>"
      ]
     },
     "metadata": {},
     "output_type": "display_data"
    }
   ],
   "source": [
    "\n",
    "# Group the data by Product Form, Tier Value, and Geography\n",
    "grouped_data = Dummy_upd_Top5.groupby(['Tier_value_upd', 'Form_upd'])['Total_Unit_Sales'].sum().reset_index()\n",
    "\n",
    "# Pivot the data to create a table with Product Form as rows, Tier Value as columns, and Geography as values\n",
    "pivoted_data = grouped_data.pivot(index='Form_upd', columns=['Tier_value_upd'], values='Total_Unit_Sales')\n",
    "\n",
    "# Plot the histogram\n",
    "fig, ax = plt.subplots(figsize=(10,5))\n",
    "pivoted_data.plot(kind='bar', stacked=False, ax=ax)\n",
    "ax.set_xticklabels(['STICK', 'TUB', 'SPREADS/SQUEEZES', 'ALL OTHER FORMS'], rotation=360)\n",
    "\n",
    "ax.set_xlabel('Form')\n",
    "ax.set_ylabel('Sales')\n",
    "ax.set_title('Histogram of Sales by Product Form, Tier Value')\n",
    "plt.show()\n"
   ]
  },
  {
   "cell_type": "code",
   "execution_count": 304,
   "metadata": {
    "scrolled": false
   },
   "outputs": [
    {
     "data": {
      "image/png": "[encoded data removed]",
      "text/plain": [
       "<Figure size 1000x500 with 1 Axes>"
      ]
     },
     "metadata": {},
     "output_type": "display_data"
    }
   ],
   "source": [
    "import matplotlib.pyplot as plt\n",
    "\n",
    "# Group the data by Product Form, Tier Value, and Geography\n",
    "grouped_data = Dummy_upd_Conagra.groupby(['Tier_value_upd', 'Form_upd'])['Total_Unit_Sales'].sum().reset_index()\n",
    "\n",
    "# Pivot the data to create a table with Product Form as rows, Tier Value as columns, and Geography as values\n",
    "pivoted_data = grouped_data.pivot(index='Form_upd', columns=['Tier_value_upd'], values='Total_Unit_Sales')\n",
    "\n",
    "# Plot the histogram\n",
    "fig, ax = plt.subplots(figsize=(10,5))\n",
    "pivoted_data.plot(kind='bar', stacked=False, ax=ax)\n",
    "ax.set_xticklabels(['STICK', 'TUB', 'SPREADS/SQUEEZES', 'ALL OTHER FORMS'], rotation=360)\n",
    "\n",
    "ax.set_xlabel('Form')\n",
    "ax.set_ylabel('Sales')\n",
    "ax.set_title('Histogram of Sales by Product Form, Tier Value')\n",
    "plt.show()\n"
   ]
  },
  {
   "cell_type": "code",
   "execution_count": 318,
   "metadata": {
    "scrolled": false
   },
   "outputs": [
    {
     "data": {
      "image/png": "[encoded data removed]",
      "text/plain": [
       "<Figure size 1000x500 with 1 Axes>"
      ]
     },
     "metadata": {},
     "output_type": "display_data"
    }
   ],
   "source": [
    "\n",
    "# Group the data by Product Form, Tier Value, and Geography\n",
    "grouped_data = Dummy_upd.groupby(['Form_upd', 'Geo_upd'])['Total_Unit_Sales'].sum().reset_index()\n",
    "\n",
    "# Pivot the data to create a table with Product Form as rows, Tier Value as columns, and Geography as values\n",
    "pivoted_data = grouped_data.pivot(index='Geo_upd', columns=['Form_upd'], values='Total_Unit_Sales')\n",
    "\n",
    "# Plot the histogram\n",
    "fig, ax = plt.subplots(figsize=(10,5))\n",
    "pivoted_data.plot(kind='bar', stacked=False, ax=ax, legend = True)\n",
    "ax.set_xticklabels(['Mid-South', 'Southeast', 'California', 'Great Lakes', 'Northeast', 'Plains', 'South Central', 'West'], rotation=45)\n",
    "\n",
    "ax.legend(['Stick', 'Tub', 'Squeeze/Spread', 'All Other Forms'])\n",
    "#ax.legend.header(['Form'])\n",
    "\n",
    "ax.set_xlabel('Geography')\n",
    "ax.set_ylabel('Sales')\n",
    "ax.set_title('Histogram of Sales by Product Form, and Geography')\n",
    "plt.show()\n"
   ]
  },
  {
   "cell_type": "code",
   "execution_count": 320,
   "metadata": {
    "collapsed": true
   },
   "outputs": [
    {
     "name": "stdout",
     "output_type": "stream",
     "text": [
      "PRIVATE LABEL                   306049\n",
      "CONAGRA BRANDS                   94702\n",
      "UPFIELD                          94404\n",
      "LAND O'LAKES INC                 78636\n",
      "CHALLENGE DAIRY PRODUCTS INC     36185\n",
      "                                 ...  \n",
      "KRIEMHILD DAIRY FARMS LLC            2\n",
      "SWIFT & COMPANY                      2\n",
      "ALLIANTI FOOD SERVICE INC            2\n",
      "WEST LYNN CREAMERY INC               1\n",
      "GUERNSEY FARMS DAIRY                 1\n",
      "Name: CAG Manufacturer Value, Length: 321, dtype: int64\n"
     ]
    }
   ],
   "source": [
    "count = Dummy_upd['CAG Manufacturer Value'].value_counts()\n",
    "print(count)"
   ]
  },
  {
   "cell_type": "code",
   "execution_count": 315,
   "metadata": {},
   "outputs": [
    {
     "name": "stdout",
     "output_type": "stream",
     "text": [
      "TUBS              47507\n",
      "STICKS            28688\n",
      "ALL OTHER FORM     2441\n",
      "Name: CAG Form Value, dtype: int64\n"
     ]
    }
   ],
   "source": [
    "\n",
    "\n",
    "value_counts = filtered_df['CAG Form Value'].value_counts()\n",
    "print(value_counts)"
   ]
  },
  {
   "cell_type": "code",
   "execution_count": 302,
   "metadata": {
    "scrolled": false
   },
   "outputs": [
    {
     "data": {
      "image/png": "[encoded data removed]",
      "text/plain": [
       "<Figure size 1000x500 with 1 Axes>"
      ]
     },
     "metadata": {},
     "output_type": "display_data"
    }
   ],
   "source": [
    "\n",
    "# Group the data by Product Form, Tier Value, and Geography\n",
    "grouped_data = Dummy_upd_Conagra.groupby(['Form_upd', 'Geo_upd'])['Total_Unit_Sales'].sum().reset_index()\n",
    "\n",
    "# Pivot the data to create a table with Product Form as rows, Tier Value as columns, and Geography as values\n",
    "pivoted_data2 = grouped_data.pivot(index='Geo_upd', columns=['Form_upd'], values='Total_Unit_Sales')\n",
    "\n",
    "# Plot the histogram\n",
    "fig, ax = plt.subplots(figsize=(10,5))\n",
    "pivoted_data2.plot(kind='bar', stacked=False, ax=ax, legend = True)\n",
    "ax.set_xticklabels(['Mid-South', 'Southeast', 'California', 'Great Lakes', 'Northeast', 'Plains', 'South Central', 'West'], rotation=45)\n",
    "\n",
    "ax.legend(['Stick', 'Tub', 'Squeeze/Spread', 'All Other Forms'])\n",
    "#ax.legend.header(['Form'])\n",
    "\n",
    "ax.set_xlabel('Geography')\n",
    "ax.set_ylabel('Sales')\n",
    "ax.set_title('Histogram of Sales by Product Form, and Geography')\n",
    "plt.show()\n"
   ]
  },
  {
   "cell_type": "code",
   "execution_count": null,
   "metadata": {},
   "outputs": [],
   "source": []
  }
 ],
 "metadata": {
  "kernelspec": {
   "display_name": "Python 3 (ipykernel)",
   "language": "python",
   "name": "python3"
  },
  "language_info": {
   "codemirror_mode": {
    "name": "ipython",
    "version": 3
   },
   "file_extension": ".py",
   "mimetype": "text/x-python",
   "name": "python",
   "nbconvert_exporter": "python",
   "pygments_lexer": "ipython3",
   "version": "3.9.13"
  }
 },
 "nbformat": 4,
 "nbformat_minor": 2
}
